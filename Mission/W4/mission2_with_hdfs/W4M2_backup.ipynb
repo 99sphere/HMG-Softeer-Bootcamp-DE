{
 "cells": [
  {
   "cell_type": "code",
   "execution_count": 21,
   "id": "a7860475-4619-456f-a10b-599acd76028e",
   "metadata": {},
   "outputs": [],
   "source": [
    "from pyspark import SparkConf\n",
    "from pyspark.sql import SparkSession\n",
    "from pyspark.sql.functions import isnan, when, count, col, isnull, avg, date_format, min\n",
    "from pyspark.sql.types import IntegerType\n",
    "from pyspark.ml.stat import Summarizer\n",
    "from pyspark import pandas as ps\n",
    "import matplotlib.pyplot as plt"
   ]
  },
  {
   "cell_type": "code",
   "execution_count": 3,
   "id": "86c39825-8f4a-4755-8602-f65aba77a81c",
   "metadata": {},
   "outputs": [],
   "source": [
    "# conf = SparkConf()\n",
    "\n",
    "# conf.set(\"spark.master\", \"local[*]\")\n",
    "# .config(config=conf)\n",
    "\n",
    "spark = SparkSession.builder \\\n",
    "    .master('spark://spark-master:7077') \\\n",
    "    .appName('W4M2') \\\n",
    "    .config('spark.executor.memory', '12gb') \\\n",
    "    .config(\"spark.cores.max\", \"20\") \\\n",
    "    .getOrCreate()"
   ]
  },
  {
   "cell_type": "markdown",
   "id": "2cc6fe42-efb9-4eb4-b24c-0a3381ff4f69",
   "metadata": {},
   "source": [
    "# 1. Data Loading\n",
    "- Load the TLC Trip Record Data into a Spark DataFrame"
   ]
  },
  {
   "cell_type": "code",
   "execution_count": 4,
   "id": "84a47f31-eee6-4f5a-a496-45fc9a3585c3",
   "metadata": {},
   "outputs": [
    {
     "name": "stderr",
     "output_type": "stream",
     "text": [
      "                                                                                \r"
     ]
    }
   ],
   "source": [
    "df = spark.read.parquet('../data/fhvhv_tripdata_2024-01.parquet')"
   ]
  },
  {
   "cell_type": "code",
   "execution_count": 6,
   "id": "fd795116-6e75-4b1d-a33b-046deed8cdf3",
   "metadata": {},
   "outputs": [
    {
     "name": "stderr",
     "output_type": "stream",
     "text": [
      "[Stage 2:>                                                          (0 + 1) / 1]\r"
     ]
    },
    {
     "name": "stdout",
     "output_type": "stream",
     "text": [
      "-RECORD 0-----------------------------------\n",
      " hvfhs_license_num    | HV0003              \n",
      " dispatching_base_num | B03404              \n",
      " originating_base_num | B03404              \n",
      " request_datetime     | 2024-01-01 00:21:47 \n",
      " on_scene_datetime    | 2024-01-01 00:25:06 \n",
      " pickup_datetime      | 2024-01-01 00:28:08 \n",
      " dropoff_datetime     | 2024-01-01 01:05:39 \n",
      " PULocationID         | 161                 \n",
      " DOLocationID         | 158                 \n",
      " trip_miles           | 2.83                \n",
      " trip_time            | 2251                \n",
      " base_passenger_fare  | 45.61               \n",
      " tolls                | 0.0                 \n",
      " bcf                  | 1.25                \n",
      " sales_tax            | 4.05                \n",
      " congestion_surcharge | 2.75                \n",
      " airport_fee          | 0.0                 \n",
      " tips                 | 0.0                 \n",
      " driver_pay           | 40.18               \n",
      " shared_request_flag  | N                   \n",
      " shared_match_flag    | N                   \n",
      " access_a_ride_flag   | N                   \n",
      " wav_request_flag     | N                   \n",
      " wav_match_flag       | N                   \n",
      "only showing top 1 row\n",
      "\n"
     ]
    },
    {
     "name": "stderr",
     "output_type": "stream",
     "text": [
      "                                                                                \r"
     ]
    }
   ],
   "source": [
    "df.show(1, vertical=True)"
   ]
  },
  {
   "cell_type": "markdown",
   "id": "970c387f-dc0f-4d04-94d3-661eb2938394",
   "metadata": {},
   "source": [
    "# 2. Data Cleaning\n",
    "## 2.1. Handle missing values by either removing or imputing them."
   ]
  },
  {
   "cell_type": "markdown",
   "id": "19cc9a4b-edeb-4f52-a099-3c039d13a230",
   "metadata": {},
   "source": [
    "### Before data cleaning"
   ]
  },
  {
   "cell_type": "code",
   "execution_count": 7,
   "id": "9202ba8a-e77b-4d61-81a4-8b908e8a9d48",
   "metadata": {},
   "outputs": [
    {
     "name": "stderr",
     "output_type": "stream",
     "text": [
      "[Stage 3:===================================================>     (18 + 2) / 20]\r"
     ]
    },
    {
     "name": "stdout",
     "output_type": "stream",
     "text": [
      "-RECORD 0-----------------------\n",
      " hvfhs_license_num    | 0       \n",
      " dispatching_base_num | 0       \n",
      " originating_base_num | 5218737 \n",
      " request_datetime     | 0       \n",
      " on_scene_datetime    | 5218737 \n",
      " pickup_datetime      | 0       \n",
      " dropoff_datetime     | 0       \n",
      " PULocationID         | 0       \n",
      " DOLocationID         | 0       \n",
      " trip_miles           | 0       \n",
      " trip_time            | 0       \n",
      " base_passenger_fare  | 0       \n",
      " tolls                | 0       \n",
      " bcf                  | 0       \n",
      " sales_tax            | 0       \n",
      " congestion_surcharge | 0       \n",
      " airport_fee          | 0       \n",
      " tips                 | 0       \n",
      " driver_pay           | 0       \n",
      " shared_request_flag  | 0       \n",
      " shared_match_flag    | 0       \n",
      " access_a_ride_flag   | 0       \n",
      " wav_request_flag     | 0       \n",
      " wav_match_flag       | 0       \n",
      "\n"
     ]
    },
    {
     "name": "stderr",
     "output_type": "stream",
     "text": [
      "                                                                                \r"
     ]
    }
   ],
   "source": [
    "df.select([count(when(isnull(c), c)).alias(c) for c in df.columns]).show(vertical=True)"
   ]
  },
  {
   "cell_type": "code",
   "execution_count": 8,
   "id": "a9a2dd0a-0644-4782-a92e-18b0cd851e7f",
   "metadata": {},
   "outputs": [],
   "source": [
    "df = df.na.drop('any')"
   ]
  },
  {
   "cell_type": "markdown",
   "id": "dab95523-09fc-4f2b-9741-f4d816441034",
   "metadata": {},
   "source": [
    "### After data cleaning"
   ]
  },
  {
   "cell_type": "code",
   "execution_count": 9,
   "id": "44b48223-e1dc-4129-a573-287b8111f1d2",
   "metadata": {},
   "outputs": [
    {
     "name": "stderr",
     "output_type": "stream",
     "text": [
      "[Stage 6:======================>                                  (8 + 12) / 20]\r"
     ]
    },
    {
     "name": "stdout",
     "output_type": "stream",
     "text": [
      "-RECORD 0-------------------\n",
      " hvfhs_license_num    | 0   \n",
      " dispatching_base_num | 0   \n",
      " originating_base_num | 0   \n",
      " request_datetime     | 0   \n",
      " on_scene_datetime    | 0   \n",
      " pickup_datetime      | 0   \n",
      " dropoff_datetime     | 0   \n",
      " PULocationID         | 0   \n",
      " DOLocationID         | 0   \n",
      " trip_miles           | 0   \n",
      " trip_time            | 0   \n",
      " base_passenger_fare  | 0   \n",
      " tolls                | 0   \n",
      " bcf                  | 0   \n",
      " sales_tax            | 0   \n",
      " congestion_surcharge | 0   \n",
      " airport_fee          | 0   \n",
      " tips                 | 0   \n",
      " driver_pay           | 0   \n",
      " shared_request_flag  | 0   \n",
      " shared_match_flag    | 0   \n",
      " access_a_ride_flag   | 0   \n",
      " wav_request_flag     | 0   \n",
      " wav_match_flag       | 0   \n",
      "\n"
     ]
    },
    {
     "name": "stderr",
     "output_type": "stream",
     "text": [
      "                                                                                \r"
     ]
    }
   ],
   "source": [
    "df.select([count(when(isnull(c), c)).alias(c) for c in df.columns]).show(vertical=True)"
   ]
  },
  {
   "cell_type": "markdown",
   "id": "5f2961ed-340c-4be7-838e-d3cb5052c61e",
   "metadata": {},
   "source": [
    "## 2.2 Convert all relevant time fields to a standard timestamp format.\n"
   ]
  },
  {
   "cell_type": "code",
   "execution_count": 10,
   "id": "5adbc664-e829-458f-a8d2-76058d1f0455",
   "metadata": {},
   "outputs": [
    {
     "name": "stdout",
     "output_type": "stream",
     "text": [
      "-RECORD 0-----------------------------------\n",
      " hvfhs_license_num    | HV0003              \n",
      " dispatching_base_num | B03404              \n",
      " originating_base_num | B03404              \n",
      " request_datetime     | 2024-01-01 00:21:47 \n",
      " on_scene_datetime    | 2024-01-01 00:25:06 \n",
      " pickup_datetime      | 2024-01-01 00:28:08 \n",
      " dropoff_datetime     | 2024-01-01 01:05:39 \n",
      " PULocationID         | 161                 \n",
      " DOLocationID         | 158                 \n",
      " trip_miles           | 2.83                \n",
      " trip_time            | 2251                \n",
      " base_passenger_fare  | 45.61               \n",
      " tolls                | 0.0                 \n",
      " bcf                  | 1.25                \n",
      " sales_tax            | 4.05                \n",
      " congestion_surcharge | 2.75                \n",
      " airport_fee          | 0.0                 \n",
      " tips                 | 0.0                 \n",
      " driver_pay           | 40.18               \n",
      " shared_request_flag  | N                   \n",
      " shared_match_flag    | N                   \n",
      " access_a_ride_flag   | N                   \n",
      " wav_request_flag     | N                   \n",
      " wav_match_flag       | N                   \n",
      "only showing top 1 row\n",
      "\n"
     ]
    }
   ],
   "source": [
    "df = spark.read.parquet('../data/fhvhv_tripdata_2024-01.parquet')\n",
    "\n",
    "df = df.withColumn(\"request_datetime\", date_format(df.request_datetime,'yyyy-MM-dd HH:mm:ss'))\n",
    "df = df.withColumn(\"on_scene_datetime\", date_format(df.on_scene_datetime,'yyyy-MM-dd HH:mm:ss'))\n",
    "df = df.withColumn(\"pickup_datetime\", date_format(df.pickup_datetime,'yyyy-MM-dd HH:mm:ss'))\n",
    "df = df.withColumn(\"dropoff_datetime\", date_format(df.dropoff_datetime,'yyyy-MM-dd HH:mm:ss'))\n",
    "\n",
    "df.show(1, vertical=True)"
   ]
  },
  {
   "cell_type": "markdown",
   "id": "9c848571-a8a5-4f9c-9665-ff15ff527c43",
   "metadata": {},
   "source": [
    "## 2.3. Filter out records with non-sensical values (e.g., negative trip duration or distance).\n",
    "- df.describe method를 이용하여 min, max 값 확인 결과, base_passenger_fare와 driver_pay에 음수 값이 있다는 것 확인\n",
    "- 비용이 음수인 경우는 일반적인 상황이 아니라고 가정하고, 해당 주행 정보(row) 전체를 drop 함."
   ]
  },
  {
   "cell_type": "code",
   "execution_count": 11,
   "id": "599f692f-cffc-492e-b808-1de4a8f941ec",
   "metadata": {},
   "outputs": [],
   "source": [
    "# df.select(min(df.request_datetime), min(df.on_scene_datetime), min(df.pickup_datetime), min(df.dropoff_datetime),\\\n",
    "#          min(df.request_datetime), min(df.request_datetime), min(df.request_datetime), min(df.request_datetime),\\\n",
    "#          ).show()"
   ]
  },
  {
   "cell_type": "code",
   "execution_count": 12,
   "id": "212db356-f31a-4905-b214-70c3f7ff9bdd",
   "metadata": {},
   "outputs": [
    {
     "name": "stderr",
     "output_type": "stream",
     "text": [
      "[Stage 11:=====================================================>  (19 + 1) / 20]\r"
     ]
    },
    {
     "name": "stdout",
     "output_type": "stream",
     "text": [
      "-RECORD 0-----------------------------------\n",
      " summary              | count               \n",
      " hvfhs_license_num    | 19663930            \n",
      " dispatching_base_num | 19663930            \n",
      " originating_base_num | 14445193            \n",
      " request_datetime     | 19663930            \n",
      " on_scene_datetime    | 14445193            \n",
      " pickup_datetime      | 19663930            \n",
      " dropoff_datetime     | 19663930            \n",
      " PULocationID         | 19663930            \n",
      " DOLocationID         | 19663930            \n",
      " trip_miles           | 19663930            \n",
      " trip_time            | 19663930            \n",
      " base_passenger_fare  | 19663930            \n",
      " tolls                | 19663930            \n",
      " bcf                  | 19663930            \n",
      " sales_tax            | 19663930            \n",
      " congestion_surcharge | 19663930            \n",
      " airport_fee          | 19663930            \n",
      " tips                 | 19663930            \n",
      " driver_pay           | 19663930            \n",
      " shared_request_flag  | 19663930            \n",
      " shared_match_flag    | 19663930            \n",
      " access_a_ride_flag   | 19663930            \n",
      " wav_request_flag     | 19663930            \n",
      " wav_match_flag       | 19663930            \n",
      "-RECORD 1-----------------------------------\n",
      " summary              | mean                \n",
      " hvfhs_license_num    | null                \n",
      " dispatching_base_num | null                \n",
      " originating_base_num | null                \n",
      " request_datetime     | null                \n",
      " on_scene_datetime    | null                \n",
      " pickup_datetime      | null                \n",
      " dropoff_datetime     | null                \n",
      " PULocationID         | 139.13607310440995  \n",
      " DOLocationID         | 142.4193262994732   \n",
      " trip_miles           | 4.838586508088682   \n",
      " trip_time            | 1110.4697250244483  \n",
      " base_passenger_fare  | 23.959245862344908  \n",
      " tolls                | 1.055207362412807   \n",
      " bcf                  | 0.690513038847487   \n",
      " sales_tax            | 2.026124964848122   \n",
      " congestion_surcharge | 1.075129412075816   \n",
      " airport_fee          | 0.19222517828328312 \n",
      " tips                 | 1.0582556976147959  \n",
      " driver_pay           | 18.269094474007822  \n",
      " shared_request_flag  | null                \n",
      " shared_match_flag    | null                \n",
      " access_a_ride_flag   | null                \n",
      " wav_request_flag     | null                \n",
      " wav_match_flag       | null                \n",
      "-RECORD 2-----------------------------------\n",
      " summary              | stddev              \n",
      " hvfhs_license_num    | null                \n",
      " dispatching_base_num | null                \n",
      " originating_base_num | null                \n",
      " request_datetime     | null                \n",
      " on_scene_datetime    | null                \n",
      " pickup_datetime      | null                \n",
      " dropoff_datetime     | null                \n",
      " PULocationID         | 74.90266882758388   \n",
      " DOLocationID         | 77.77902811192222   \n",
      " trip_miles           | 5.698662365016926   \n",
      " trip_time            | 772.2219227477002   \n",
      " base_passenger_fare  | 20.536568700360426  \n",
      " tolls                | 3.7984215973860014  \n",
      " bcf                  | 0.6311548553109644  \n",
      " sales_tax            | 1.6768184754748434  \n",
      " congestion_surcharge | 1.3441484475609151  \n",
      " airport_fee          | 0.669191483559834   \n",
      " tips                 | 3.127073797721013   \n",
      " driver_pay           | 15.46116704798964   \n",
      " shared_request_flag  | null                \n",
      " shared_match_flag    | null                \n",
      " access_a_ride_flag   | null                \n",
      " wav_request_flag     | null                \n",
      " wav_match_flag       | null                \n",
      "-RECORD 3-----------------------------------\n",
      " summary              | min                 \n",
      " hvfhs_license_num    | HV0003              \n",
      " dispatching_base_num | B03404              \n",
      " originating_base_num | B00887              \n",
      " request_datetime     | 2023-12-31 23:01:55 \n",
      " on_scene_datetime    | 2023-12-31 22:55:22 \n",
      " pickup_datetime      | 2024-01-01 00:00:00 \n",
      " dropoff_datetime     | 2024-01-01 00:02:35 \n",
      " PULocationID         | 1                   \n",
      " DOLocationID         | 1                   \n",
      " trip_miles           | 0.0                 \n",
      " trip_time            | 0                   \n",
      " base_passenger_fare  | -43.09              \n",
      " tolls                | 0.0                 \n",
      " bcf                  | 0.0                 \n",
      " sales_tax            | 0.0                 \n",
      " congestion_surcharge | 0.0                 \n",
      " airport_fee          | 0.0                 \n",
      " tips                 | 0.0                 \n",
      " driver_pay           | -67.76              \n",
      " shared_request_flag  | N                   \n",
      " shared_match_flag    | N                   \n",
      " access_a_ride_flag   | N                   \n",
      " wav_request_flag     | N                   \n",
      " wav_match_flag       | N                   \n",
      "-RECORD 4-----------------------------------\n",
      " summary              | max                 \n",
      " hvfhs_license_num    | HV0005              \n",
      " dispatching_base_num | B03406              \n",
      " originating_base_num | B03406              \n",
      " request_datetime     | 2024-02-01 00:07:07 \n",
      " on_scene_datetime    | 2024-01-31 23:59:58 \n",
      " pickup_datetime      | 2024-01-31 23:59:59 \n",
      " dropoff_datetime     | 2024-02-01 02:10:41 \n",
      " PULocationID         | 265                 \n",
      " DOLocationID         | 265                 \n",
      " trip_miles           | 417.62              \n",
      " trip_time            | 52060               \n",
      " base_passenger_fare  | 1911.16             \n",
      " tolls                | 141.02              \n",
      " bcf                  | 53.94               \n",
      " sales_tax            | 152.69              \n",
      " congestion_surcharge | 8.25                \n",
      " airport_fee          | 6.9                 \n",
      " tips                 | 196.8               \n",
      " driver_pay           | 1218.17             \n",
      " shared_request_flag  | Y                   \n",
      " shared_match_flag    | Y                   \n",
      " access_a_ride_flag   | Y                   \n",
      " wav_request_flag     | Y                   \n",
      " wav_match_flag       | Y                   \n",
      "\n"
     ]
    },
    {
     "name": "stderr",
     "output_type": "stream",
     "text": [
      "                                                                                \r"
     ]
    }
   ],
   "source": [
    "df.describe(df.columns).show(vertical=True)"
   ]
  },
  {
   "cell_type": "code",
   "execution_count": 13,
   "id": "3a7dbf17-e5cf-4fa2-85bc-96f7a7465b20",
   "metadata": {},
   "outputs": [],
   "source": [
    "df = df.filter(df.driver_pay > 0)\n",
    "df = df.filter(df.base_passenger_fare > 0)"
   ]
  },
  {
   "cell_type": "code",
   "execution_count": 14,
   "id": "351b63cd-cb92-4def-9b38-e6eb2abd5f22",
   "metadata": {},
   "outputs": [
    {
     "name": "stderr",
     "output_type": "stream",
     "text": [
      "[Stage 14:=====================================================>  (19 + 1) / 20]\r"
     ]
    },
    {
     "name": "stdout",
     "output_type": "stream",
     "text": [
      "-RECORD 0-----------------------------------\n",
      " summary              | count               \n",
      " hvfhs_license_num    | 19651963            \n",
      " dispatching_base_num | 19651963            \n",
      " originating_base_num | 14440292            \n",
      " request_datetime     | 19651963            \n",
      " on_scene_datetime    | 14440292            \n",
      " pickup_datetime      | 19651963            \n",
      " dropoff_datetime     | 19651963            \n",
      " PULocationID         | 19651963            \n",
      " DOLocationID         | 19651963            \n",
      " trip_miles           | 19651963            \n",
      " trip_time            | 19651963            \n",
      " base_passenger_fare  | 19651963            \n",
      " tolls                | 19651963            \n",
      " bcf                  | 19651963            \n",
      " sales_tax            | 19651963            \n",
      " congestion_surcharge | 19651963            \n",
      " airport_fee          | 19651963            \n",
      " tips                 | 19651963            \n",
      " driver_pay           | 19651963            \n",
      " shared_request_flag  | 19651963            \n",
      " shared_match_flag    | 19651963            \n",
      " access_a_ride_flag   | 19651963            \n",
      " wav_request_flag     | 19651963            \n",
      " wav_match_flag       | 19651963            \n",
      "-RECORD 1-----------------------------------\n",
      " summary              | mean                \n",
      " hvfhs_license_num    | null                \n",
      " dispatching_base_num | null                \n",
      " originating_base_num | null                \n",
      " request_datetime     | null                \n",
      " on_scene_datetime    | null                \n",
      " pickup_datetime      | null                \n",
      " dropoff_datetime     | null                \n",
      " PULocationID         | 139.136834116775    \n",
      " DOLocationID         | 142.42061935492143  \n",
      " trip_miles           | 4.839156592092116   \n",
      " trip_time            | 1110.5638864677285  \n",
      " base_passenger_fare  | 23.96910115289446   \n",
      " tolls                | 1.05565281391839    \n",
      " bcf                  | 0.6907913392664278  \n",
      " sales_tax            | 2.0269597266199804  \n",
      " congestion_surcharge | 1.0755785185429059  \n",
      " airport_fee          | 0.19233574528916017 \n",
      " tips                 | 1.0588624917520204  \n",
      " driver_pay           | 18.274064599056963  \n",
      " shared_request_flag  | null                \n",
      " shared_match_flag    | null                \n",
      " access_a_ride_flag   | null                \n",
      " wav_request_flag     | null                \n",
      " wav_match_flag       | null                \n",
      "-RECORD 2-----------------------------------\n",
      " summary              | stddev              \n",
      " hvfhs_license_num    | null                \n",
      " dispatching_base_num | null                \n",
      " originating_base_num | null                \n",
      " request_datetime     | null                \n",
      " on_scene_datetime    | null                \n",
      " pickup_datetime      | null                \n",
      " dropoff_datetime     | null                \n",
      " PULocationID         | 74.90281936340048   \n",
      " DOLocationID         | 77.77917000673166   \n",
      " trip_miles           | 5.696959826067213   \n",
      " trip_time            | 771.4168737478186   \n",
      " base_passenger_fare  | 20.516486344689657  \n",
      " tolls                | 3.79895429074113    \n",
      " bcf                  | 0.6306167133149911  \n",
      " sales_tax            | 1.6756708438091479  \n",
      " congestion_surcharge | 1.344254527103372   \n",
      " airport_fee          | 0.6693681348514887  \n",
      " tips                 | 3.127864234706114   \n",
      " driver_pay           | 15.45936482249151   \n",
      " shared_request_flag  | null                \n",
      " shared_match_flag    | null                \n",
      " access_a_ride_flag   | null                \n",
      " wav_request_flag     | null                \n",
      " wav_match_flag       | null                \n",
      "-RECORD 3-----------------------------------\n",
      " summary              | min                 \n",
      " hvfhs_license_num    | HV0003              \n",
      " dispatching_base_num | B03404              \n",
      " originating_base_num | B00887              \n",
      " request_datetime     | 2023-12-31 23:01:55 \n",
      " on_scene_datetime    | 2023-12-31 22:55:22 \n",
      " pickup_datetime      | 2024-01-01 00:00:00 \n",
      " dropoff_datetime     | 2024-01-01 00:02:35 \n",
      " PULocationID         | 1                   \n",
      " DOLocationID         | 1                   \n",
      " trip_miles           | 0.0                 \n",
      " trip_time            | 0                   \n",
      " base_passenger_fare  | 0.02                \n",
      " tolls                | 0.0                 \n",
      " bcf                  | 0.0                 \n",
      " sales_tax            | 0.0                 \n",
      " congestion_surcharge | 0.0                 \n",
      " airport_fee          | 0.0                 \n",
      " tips                 | 0.0                 \n",
      " driver_pay           | 0.01                \n",
      " shared_request_flag  | N                   \n",
      " shared_match_flag    | N                   \n",
      " access_a_ride_flag   | N                   \n",
      " wav_request_flag     | N                   \n",
      " wav_match_flag       | N                   \n",
      "-RECORD 4-----------------------------------\n",
      " summary              | max                 \n",
      " hvfhs_license_num    | HV0005              \n",
      " dispatching_base_num | B03406              \n",
      " originating_base_num | B03406              \n",
      " request_datetime     | 2024-02-01 00:07:07 \n",
      " on_scene_datetime    | 2024-01-31 23:59:58 \n",
      " pickup_datetime      | 2024-01-31 23:59:59 \n",
      " dropoff_datetime     | 2024-02-01 02:10:41 \n",
      " PULocationID         | 265                 \n",
      " DOLocationID         | 265                 \n",
      " trip_miles           | 417.62              \n",
      " trip_time            | 52060               \n",
      " base_passenger_fare  | 1691.9              \n",
      " tolls                | 141.02              \n",
      " bcf                  | 47.31               \n",
      " sales_tax            | 152.69              \n",
      " congestion_surcharge | 8.25                \n",
      " airport_fee          | 6.9                 \n",
      " tips                 | 196.8               \n",
      " driver_pay           | 1218.17             \n",
      " shared_request_flag  | Y                   \n",
      " shared_match_flag    | Y                   \n",
      " access_a_ride_flag   | Y                   \n",
      " wav_request_flag     | Y                   \n",
      " wav_match_flag       | Y                   \n",
      "\n"
     ]
    },
    {
     "name": "stderr",
     "output_type": "stream",
     "text": [
      "                                                                                \r"
     ]
    }
   ],
   "source": [
    "df.describe(df.columns).show(vertical=True)"
   ]
  },
  {
   "cell_type": "markdown",
   "id": "eaa79b6d-3e1b-4524-9444-4070afaf1f1d",
   "metadata": {},
   "source": [
    "# Calculation of Metrics\n",
    "- Compute the average duration of trips."
   ]
  },
  {
   "cell_type": "code",
   "execution_count": 15,
   "id": "d379e971-9dac-4656-9d94-229e6e7fdf69",
   "metadata": {},
   "outputs": [
    {
     "name": "stdout",
     "output_type": "stream",
     "text": [
      "+---------------------+\n",
      "|average trip time (s)|\n",
      "+---------------------+\n",
      "|   1110.5638864677285|\n",
      "+---------------------+\n",
      "\n"
     ]
    },
    {
     "name": "stderr",
     "output_type": "stream",
     "text": [
      "                                                                                \r"
     ]
    }
   ],
   "source": [
    "df.select(avg(df.trip_time).alias(\"average trip time (s)\")).show()"
   ]
  },
  {
   "cell_type": "markdown",
   "id": "ab6690b6-0839-4ab3-a77e-1d06de442639",
   "metadata": {},
   "source": [
    "- Compute the average distance of trips."
   ]
  },
  {
   "cell_type": "code",
   "execution_count": 16,
   "id": "f9eefa30-85d9-47dd-b4bc-5439c275b4a8",
   "metadata": {},
   "outputs": [
    {
     "name": "stdout",
     "output_type": "stream",
     "text": [
      "+-----------------------------+\n",
      "|average trip distance (miles)|\n",
      "+-----------------------------+\n",
      "|            4.839156592092115|\n",
      "+-----------------------------+\n",
      "\n"
     ]
    }
   ],
   "source": [
    "df.select(avg(df.trip_miles).alias(\"average trip distance (miles)\")).show()"
   ]
  },
  {
   "cell_type": "markdown",
   "id": "a13490c2-d7bd-4817-a904-c441f7d2b2b4",
   "metadata": {},
   "source": [
    "# Peak Hours Identification\n",
    "Identify the peak hours for taxi usage."
   ]
  },
  {
   "cell_type": "markdown",
   "id": "f5041f9d-47f1-440e-86df-e0c9435d89f2",
   "metadata": {},
   "source": [
    "1. Add column for 'hour' info."
   ]
  },
  {
   "cell_type": "code",
   "execution_count": 17,
   "id": "5b63a103-5553-4d59-96d1-896a81d97725",
   "metadata": {},
   "outputs": [],
   "source": [
    "df = df.withColumn(\"hour\", date_format(df.request_datetime,'H'))\n",
    "df = df.withColumn(\"hour\", df['hour'].cast(IntegerType()))"
   ]
  },
  {
   "cell_type": "markdown",
   "id": "90be1c0f-bf59-420d-ab70-c77cdb57862b",
   "metadata": {},
   "source": [
    "2. Casting hour column(str to int)"
   ]
  },
  {
   "cell_type": "code",
   "execution_count": 18,
   "id": "0c8001b1-311b-46b3-bf26-d253934bdc56",
   "metadata": {},
   "outputs": [
    {
     "name": "stderr",
     "output_type": "stream",
     "text": [
      "[Stage 26:===========================>                           (10 + 10) / 20]\r"
     ]
    },
    {
     "name": "stdout",
     "output_type": "stream",
     "text": [
      "+----+-------+\n",
      "|hour|  count|\n",
      "+----+-------+\n",
      "|   0| 684232|\n",
      "|   1| 481513|\n",
      "|   2| 358224|\n",
      "|   3| 292748|\n",
      "|   4| 290602|\n",
      "|   5| 354854|\n",
      "|   6| 571976|\n",
      "|   7| 896195|\n",
      "|   8|1017849|\n",
      "|   9| 900531|\n",
      "|  10| 817060|\n",
      "|  11| 809946|\n",
      "|  12| 834429|\n",
      "|  13| 872312|\n",
      "|  14| 966632|\n",
      "|  15| 981533|\n",
      "|  16|1028394|\n",
      "|  17|1177498|\n",
      "|  18|1212700|\n",
      "|  19|1146124|\n",
      "|  20|1051746|\n",
      "|  21|1024729|\n",
      "|  22|1001831|\n",
      "|  23| 878305|\n",
      "+----+-------+\n",
      "\n"
     ]
    },
    {
     "name": "stderr",
     "output_type": "stream",
     "text": [
      "                                                                                \r"
     ]
    }
   ],
   "source": [
    "df_hour = df.groupBy(\"hour\").count()\n",
    "df_hour.orderBy(\"hour\").show(df.count())"
   ]
  },
  {
   "cell_type": "code",
   "execution_count": 22,
   "id": "ca853aeb-3cef-45a5-ac5c-cb14fa0e2984",
   "metadata": {},
   "outputs": [
    {
     "name": "stderr",
     "output_type": "stream",
     "text": [
      "/home/spark_user/spark/python/pyspark/pandas/utils.py:975: PandasAPIOnSparkAdviceWarning: `to_numpy` loads all data into the driver's memory. It should only be used if the resulting NumPy ndarray is expected to be small.\n",
      "  warnings.warn(message, PandasAPIOnSparkAdviceWarning)\n",
      "                                                                                \r"
     ]
    },
    {
     "data": {
      "text/plain": [
       "array([[     12,  834429],\n",
       "       [     22, 1001831],\n",
       "       [      1,  481513],\n",
       "       [     13,  872312],\n",
       "       [      6,  571976],\n",
       "       [     16, 1028394],\n",
       "       [      3,  292748],\n",
       "       [     20, 1051746],\n",
       "       [      5,  354854],\n",
       "       [     19, 1146124],\n",
       "       [     15,  981533],\n",
       "       [      9,  900531],\n",
       "       [     17, 1177498],\n",
       "       [      4,  290602],\n",
       "       [      8, 1017849],\n",
       "       [     23,  878305],\n",
       "       [      7,  896195],\n",
       "       [     10,  817060],\n",
       "       [     21, 1024729],\n",
       "       [     11,  809946],\n",
       "       [     14,  966632],\n",
       "       [      2,  358224],\n",
       "       [      0,  684232],\n",
       "       [     18, 1212700]])"
      ]
     },
     "execution_count": 22,
     "metadata": {},
     "output_type": "execute_result"
    }
   ],
   "source": [
    "ps_df_hour = ps.DataFrame(df_hour)\n",
    "np_hour_cnt = ps_df_hour.to_numpy()\n",
    "np_hour_cnt"
   ]
  },
  {
   "cell_type": "code",
   "execution_count": 32,
   "id": "f2aecbc5-dad5-4f16-9c3d-c18d04f53fc3",
   "metadata": {},
   "outputs": [
    {
     "name": "stdout",
     "output_type": "stream",
     "text": [
      "['0 K', '100 K', '200 K', '300 K', '400 K', '500 K', '600 K', '700 K', '800 K', '900 K', '1000 K', '1100 K', '1200 K']\n"
     ]
    },
    {
     "data": {
      "text/plain": [
       "Text(0.5, 1.0, 'Peak Hours Identification')"
      ]
     },
     "execution_count": 32,
     "metadata": {},
     "output_type": "execute_result"
    },
    {
     "data": {
      "image/png": "[encoded data removed]",
      "text/plain": [
       "<Figure size 640x480 with 1 Axes>"
      ]
     },
     "metadata": {},
     "output_type": "display_data"
    }
   ],
   "source": [
    "max_cnt = np_hour_cnt[:,1].max()\n",
    "interval = 100000\n",
    "plt.bar(np_hour_cnt[:,0], np_hour_cnt[:,1])\n",
    "plt.xlabel(\"hour\")\n",
    "plt.ylabel(\"# of usage\")\n",
    "plt.xticks([x for x in range(0, 24, 2)])\n",
    "\n",
    "y_ticks_str = [str(round(x/1000))+' K' for x in range(0, max_cnt, interval)]\n",
    "\n",
    "plt.yticks([y for y in range(0, max_cnt, interval)], y_ticks_str)\n",
    "print(y_ticks_str)\n",
    "plt.title(\"Peak Hours Identification\")"
   ]
  }
 ],
 "metadata": {
  "kernelspec": {
   "display_name": "Python 3 (ipykernel)",
   "language": "python",
   "name": "python3"
  },
  "language_info": {
   "codemirror_mode": {
    "name": "ipython",
    "version": 3
   },
   "file_extension": ".py",
   "mimetype": "text/x-python",
   "name": "python",
   "nbconvert_exporter": "python",
   "pygments_lexer": "ipython3",
   "version": "3.10.12"
  }
 },
 "nbformat": 4,
 "nbformat_minor": 5
}
