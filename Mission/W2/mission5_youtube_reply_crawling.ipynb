{
 "cells": [
  {
   "cell_type": "code",
   "execution_count": 315,
   "metadata": {},
   "outputs": [],
   "source": [
    "\n",
    "import pandas as pd\n",
    "import time\n",
    "import itertools\n",
    "import matplotlib.pyplot as plt\n",
    "\n",
    "from wordcloud import WordCloud\n",
    "from textblob import TextBlob\n",
    "from collections import Counter\n",
    "from selenium import webdriver\n",
    "from bs4 import BeautifulSoup\n",
    "\n",
    "CAR_TYPE = 'i30'\n",
    "URL = \"https://www.youtube.com/watch?v=psbX7GAu6gM&ab_channel=carwow\""
   ]
  },
  {
   "cell_type": "code",
   "execution_count": 43,
   "metadata": {},
   "outputs": [],
   "source": [
    "def scroll(driver, scroll_time, wait_time):\n",
    "    last_page_height = driver.execute_script(\n",
    "        \"return document.documentElement.scrollHeight\"\n",
    "    )\n",
    "    # 기존 위치\n",
    "    stand_height = 0\n",
    "    # 이전과 차이값\n",
    "    sub_height = last_page_height\n",
    "    while True:\n",
    "        # 현재 높이\n",
    "        current_height = driver.execute_script(\n",
    "            \"return document.documentElement.scrollHeight\"\n",
    "        )\n",
    "\n",
    "        for i in range(10):\n",
    "            driver.execute_script(\n",
    "                f\"window.scrollTo(0, {stand_height + (sub_height/10 * i)});\"\n",
    "            )\n",
    "            time.sleep(scroll_time)\n",
    "        time.sleep(wait_time)\n",
    "\n",
    "        # 스크롤 내린 페이지의 높이\n",
    "        new_page_height = driver.execute_script(\n",
    "            \"return document.documentElement.scrollHeight\"\n",
    "        )\n",
    "        stand_height = last_page_height\n",
    "        sub_height = new_page_height - last_page_height\n",
    "        # 현재높이와 내린 높이가 같으면 스크롤 끝\n",
    "        if new_page_height == last_page_height:\n",
    "            break\n",
    "        last_page_height = new_page_height\n",
    "        time.sleep(wait_time)"
   ]
  },
  {
   "cell_type": "code",
   "execution_count": 44,
   "metadata": {},
   "outputs": [],
   "source": [
    "driver = webdriver.Chrome()\n",
    "driver.get(URL)\n",
    "\n",
    "time.sleep(3)\n",
    "\n",
    "# 스크롤링\n",
    "scroll(driver, 0.3, 1)\n",
    "\n",
    "time.sleep(2)\n",
    "\n",
    "req = driver.page_source\n",
    "soup = BeautifulSoup(req, \"lxml\")"
   ]
  },
  {
   "cell_type": "code",
   "execution_count": 45,
   "metadata": {},
   "outputs": [],
   "source": [
    "youtube_title = soup.find(\n",
    "        \"yt-formatted-string\", class_=\"style-scope ytd-video-primary-info-renderer\"\n",
    "    ).text"
   ]
  },
  {
   "cell_type": "code",
   "execution_count": 46,
   "metadata": {},
   "outputs": [
    {
     "data": {
      "text/plain": [
       "'Hyundai i30 N review with 0-60mph & brake test!'"
      ]
     },
     "execution_count": 46,
     "metadata": {},
     "output_type": "execute_result"
    }
   ],
   "source": [
    "youtube_title"
   ]
  },
  {
   "cell_type": "code",
   "execution_count": 47,
   "metadata": {},
   "outputs": [],
   "source": [
    "youtube_comments_IDs = soup.select(\"#author-text > span\")\n",
    "youtube_comments = soup.select(\"#content-text > span\")"
   ]
  },
  {
   "cell_type": "code",
   "execution_count": 48,
   "metadata": {},
   "outputs": [],
   "source": [
    "def get_id(str_tmp):\n",
    "    str_tmp = str_tmp.replace(\"@\", \"\")\n",
    "    str_tmp = str_tmp.strip()\n",
    "    return str_tmp"
   ]
  },
  {
   "cell_type": "code",
   "execution_count": 93,
   "metadata": {},
   "outputs": [],
   "source": [
    "def get_comment(str_tmp):\n",
    "    str_tmp = str_tmp.replace(\"\\n\", \" \")\n",
    "    str_tmp = str_tmp.replace(\"\\t\", \" \")\n",
    "    str_tmp = str_tmp.replace(\"                \", \" \")\n",
    "    str_tmp = str_tmp.strip()\n",
    "    return str_tmp"
   ]
  },
  {
   "cell_type": "code",
   "execution_count": 163,
   "metadata": {},
   "outputs": [],
   "source": [
    "user_id_lst = []\n",
    "comments_lst = []\n",
    "sentiment_lst = []\n",
    "\n",
    "for user_id in youtube_comments_IDs:\n",
    "    user_id_lst.append(get_id(user_id.get_text()))\n",
    "    \n",
    "for comment in youtube_comments:\n",
    "    comment = get_comment(comment.get_text())\n",
    "    comments_lst.append(comment)\n",
    "    blob = TextBlob(comment)\n",
    "    sentiment_lst.append(blob.sentiment.polarity)"
   ]
  },
  {
   "cell_type": "code",
   "execution_count": 191,
   "metadata": {},
   "outputs": [],
   "source": [
    "file_path = '../W2/i30_review_comment.csv'\n",
    "i30_reply_data = pd.DataFrame({'ID': user_id_lst,\n",
    "                             'text': comments_lst,\n",
    "                             'sentiment': sentiment_lst})\n",
    "i30_reply_data.to_csv(file_path, index=False)"
   ]
  }
 ],
 "metadata": {
  "kernelspec": {
   "display_name": "week2",
   "language": "python",
   "name": ".week2"
  },
  "language_info": {
   "codemirror_mode": {
    "name": "ipython",
    "version": 3
   },
   "file_extension": ".py",
   "mimetype": "text/x-python",
   "name": "python",
   "nbconvert_exporter": "python",
   "pygments_lexer": "ipython3",
   "version": "3.12.4"
  }
 },
 "nbformat": 4,
 "nbformat_minor": 2
}
