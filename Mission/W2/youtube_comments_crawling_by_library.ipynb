{
 "cells": [
  {
   "cell_type": "code",
   "execution_count": 150,
   "metadata": {},
   "outputs": [],
   "source": [
    "\n",
    "from youtube_comment_downloader import *\n",
    "import csv\n",
    "import pandas as pd\n",
    "from textblob import TextBlob\n",
    "\n",
    "URL = 'https://www.youtube.com/watch?v=psbX7GAu6gM&ab_channel=carwow'\n",
    "CAR_TYPE = 'i30'                                                                                                                                                                                                                                                                                                                                                                                                                                                                                                                                                                                                                                                                                                                                                                                                                                                                                                                                                                                                                                                                                                                                                                                                                                                                                                                                                                                                                                                                                                                                                                                                                                                                                                                                                                                                                                                                                                                                                                                                                                                                                                                                                                                                                                                                                                                                                                                                                                                                                                                                                                                                                                                                                                                                                                                                                                                                                                                                                                                                                                                                                                                                                                                                                                                                                                                                                                                                                                                                                                                                                                                                                                                                                                                                                                                                                                                                                                                                                                                                                                                                                                                                                                                                                                                                                                                                                                                                                                                                                                                                                                                                                                                                                                                                                                                                                                                                                                                                                                                                                                                                                                                                                                                                                                                                                                                                                                                                                                                                                                                                                                                                                                                                                                                                                                                                                                                                                                                                                                                                                                                                                                                                                                                                                                                                                                                                                                                                                                                                                                                                                                                                                                                                                                                                                                                                                                                                                                                                                                                                                                                                                                                                                                                                                                                                                                                                                                                                                                                                                                                                                                                                                                                                                                                                                                                                                                                                                                                                                                                                                                                                                                                                                                                                                                                                                                                                                                                                                                                                                                                                                                                                                                                                                                                                                                                                                                                                                                                                                                                                                                                                                                                                                                                                                                                                                                                                                                                                                                                                                                                                                                                                                                                                                                                                                                                                                                                                                                                                                                                                                                                                                                                                                                                                                                                                                                                                                                                                             "
   ]
  },
  {
   "cell_type": "code",
   "execution_count": 151,
   "metadata": {},
   "outputs": [],
   "source": [
    "downloader = YoutubeCommentDownloader()\n",
    "comments = downloader.get_comments_from_url(URL, sort_by=SORT_BY_RECENT)\n",
    "comments\n",
    "    # with open(f'{CAR_TYPE}_review_data.csv', 'w') as f:\n",
    "    #     writer = csv.DictWriter(f, fieldnames=[\n",
    "    #         \"cid\",\n",
    "    #         \"text\",\n",
    "    #         \"author\",\n",
    "    #         \"channel\",\n",
    "    #         \"votes\",\n",
    "    #         \"reply\",\n",
    "    #         \"time_parsed\"\n",
    "    #     ], extrasaction='ignore')\n",
    "    #     writer.writeheader()\n",
    "cids = []\n",
    "texts = []\n",
    "authors = []\n",
    "channel = []\n",
    "votes = []\n",
    "reply = []\n",
    "time_parsed = []\n",
    "sentiments = []\n",
    "\n",
    "for i, comment in enumerate(comments):\n",
    "    cids.append(comment['cid'])\n",
    "    texts.append(comment['text'])\n",
    "    authors.append(comment['author'])\n",
    "    channel.append(comment['channel'])\n",
    "    votes.append(comment['votes'])\n",
    "    reply.append(comment['reply'])\n",
    "    sentiments.append(TextBlob(comment['text']).sentiment.polarity)\n",
    "    time_parsed.append(comment['time_parsed'])"
   ]
  },
  {
   "cell_type": "code",
   "execution_count": 155,
   "metadata": {},
   "outputs": [
    {
     "data": {
      "text/plain": [
       "(1294, 8)"
      ]
     },
     "execution_count": 155,
     "metadata": {},
     "output_type": "execute_result"
    }
   ],
   "source": [
    "file_path = f'{CAR_TYPE}_review_data.csv'\n",
    "data = pd.DataFrame({'cid': cids,\n",
    "                    'text': texts,\n",
    "                    'author': authors,\n",
    "                    'channel': channel,\n",
    "                    'votes': votes,\n",
    "                    'reply': reply,\n",
    "                    'time_parsed': time_parsed,\n",
    "                    'sentiment': sentiments,\n",
    "                    })\n",
    "\n",
    "data = data.drop_duplicates('text')\n",
    "data.to_csv(file_path, index=False)\n",
    "data.shape"
   ]
  }
 ],
 "metadata": {
  "kernelspec": {
   "display_name": "week2",
   "language": "python",
   "name": ".week2"
  },
  "language_info": {
   "codemirror_mode": {
    "name": "ipython",
    "version": 3
   },
   "file_extension": ".py",
   "mimetype": "text/x-python",
   "name": "python",
   "nbconvert_exporter": "python",
   "pygments_lexer": "ipython3",
   "version": "3.12.4"
  }
 },
 "nbformat": 4,
 "nbformat_minor": 2
}
