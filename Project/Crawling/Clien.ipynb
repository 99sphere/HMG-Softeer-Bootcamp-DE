{
 "cells": [
  {
   "cell_type": "code",
   "execution_count": 9,
   "id": "64d2518f-b60e-4d13-87aa-ba69078031df",
   "metadata": {},
   "outputs": [],
   "source": [
    "from selenium import webdriver\n",
    "from selenium.webdriver.common.keys import Keys\n",
    "from selenium.webdriver.common.by import By\n",
    "import time\n",
    "from bs4 import BeautifulSoup"
   ]
  },
  {
   "cell_type": "code",
   "execution_count": 2,
   "id": "5b8ba1a7-eefc-4a0f-8e0c-518c9cf5dcde",
   "metadata": {},
   "outputs": [],
   "source": [
    "# Utils\n",
    "start_date = '2024-06-20 00:00:00'\n",
    "end_date = '2024-07-20 23:59:59'\n",
    "\n",
    "def inRange(start_date, end_date, time):\n",
    "    return start_date <= time <= end_date\n",
    "\n",
    "before_start=True"
   ]
  },
  {
   "cell_type": "code",
   "execution_count": 3,
   "id": "3015f0e2-727c-4e53-b1c7-5f968950a7d7",
   "metadata": {},
   "outputs": [
    {
     "data": {
      "text/plain": [
       "False"
      ]
     },
     "execution_count": 3,
     "metadata": {},
     "output_type": "execute_result"
    }
   ],
   "source": [
    "test = '2024-06-19 23:59:59'\n",
    "inRange(start_date, end_date, test)"
   ]
  },
  {
   "cell_type": "code",
   "execution_count": 4,
   "id": "730fd206-9178-4edf-b2bd-3cb8db004767",
   "metadata": {},
   "outputs": [],
   "source": [
    "# 게시물 검색 페이지 (page_num으로 지정 가능)\n",
    "driver = webdriver.Chrome() \n",
    "page_num=0\n",
    "driver.get(f'https://www.clien.net/service/search?q=%EB%A5%B4%EB%85%B8&sort=recency&p={page_num}&boardCd=&isBoard=false')\n",
    "time.sleep(3)"
   ]
  },
  {
   "cell_type": "markdown",
   "id": "4e9e965a-991a-47be-abf3-c3021b28ee0f",
   "metadata": {},
   "source": [
    "- 검색했을 때, 최대 50페이지만 보여줌"
   ]
  },
  {
   "cell_type": "code",
   "execution_count": 5,
   "id": "9e9ff8af-665c-41e3-a10e-a7e7c9ffd53e",
   "metadata": {},
   "outputs": [],
   "source": [
    "news_titles = driver.find_elements(By.CLASS_NAME, \"subject_fixed\")\n",
    "datetimes = driver.find_elements(By.CLASS_NAME, \"timestamp\")\n",
    "nicknames = driver.find_elements(By.CLASS_NAME, \"nickname\")\n",
    "\n",
    "titles = []\n",
    "hrefs = []\n",
    "created_ats = []\n",
    "\n",
    "for i in news_titles:\n",
    "    titles.append(i.text)\n",
    "    hrefs.append(i.get_attribute('href'))\n",
    "\n",
    "for i in datetimes:\n",
    "    created_ats.append(i.get_attribute('textContent'))"
   ]
  },
  {
   "cell_type": "code",
   "execution_count": 6,
   "id": "cdc8a034-a88e-4927-acf3-ec5391eb5872",
   "metadata": {},
   "outputs": [
    {
     "name": "stdout",
     "output_type": "stream",
     "text": [
      "['fiat', '정의로운국가', '요트맨', 'startspark', 'WhoIsIt', 'DMWriter', 'eeeeee', '요트맨', '이게무슨개소리야', '요트맨', '마지막변명', '펀드라이빙', '이게무슨개소리야', 'Rize', '매복', '야광멧돼지', 'Serafim', '코스믹', 'ㅇㄷㄷ', '파랑덕후']\n"
     ]
    }
   ],
   "source": [
    "authors = []\n",
    "image_elements = driver.find_elements(By.CSS_SELECTOR, 'span.nickname img')\n",
    "gif_nick_cnt = 0\n",
    "for idx, elem in enumerate(nicknames):\n",
    "    nickname = elem.text\n",
    "    if nickname == '':\n",
    "        nickname = image_elements[gif_nick_cnt].get_attribute('alt')\n",
    "        gif_nick_cnt+=1\n",
    "    authors.append(nickname)\n",
    "print(authors)"
   ]
  },
  {
   "cell_type": "code",
   "execution_count": 7,
   "id": "034eb9b0-818f-477a-839b-5f88aecf7f82",
   "metadata": {},
   "outputs": [
    {
     "name": "stdout",
     "output_type": "stream",
     "text": [
      "20\n"
     ]
    }
   ],
   "source": [
    "print(len(nicknames))"
   ]
  },
  {
   "cell_type": "code",
   "execution_count": 8,
   "id": "e41c9be5-d306-486f-9928-1c0089e944d8",
   "metadata": {},
   "outputs": [
    {
     "ename": "NoSuchElementException",
     "evalue": "Message: no such element: Unable to locate element: {\"method\":\"css selector\",\"selector\":\".comment ad_banner\"}\n  (Session info: chrome=127.0.6533.88); For documentation on this error, please visit: https://www.selenium.dev/documentation/webdriver/troubleshooting/errors#no-such-element-exception\nStacktrace:\n0   chromedriver                        0x00000001005a5088 cxxbridge1$str$ptr + 1887276\n1   chromedriver                        0x000000010059d764 cxxbridge1$str$ptr + 1856264\n2   chromedriver                        0x00000001001ac82c cxxbridge1$string$len + 88524\n3   chromedriver                        0x00000001001f0834 cxxbridge1$string$len + 367060\n4   chromedriver                        0x000000010022848c cxxbridge1$string$len + 595500\n5   chromedriver                        0x00000001001e5474 cxxbridge1$string$len + 321044\n6   chromedriver                        0x00000001001e60e4 cxxbridge1$string$len + 324228\n7   chromedriver                        0x000000010056ca6c cxxbridge1$str$ptr + 1656336\n8   chromedriver                        0x00000001005714c8 cxxbridge1$str$ptr + 1675372\n9   chromedriver                        0x0000000100552950 cxxbridge1$str$ptr + 1549556\n10  chromedriver                        0x0000000100571c78 cxxbridge1$str$ptr + 1677340\n11  chromedriver                        0x0000000100544660 cxxbridge1$str$ptr + 1491460\n12  chromedriver                        0x000000010058eac0 cxxbridge1$str$ptr + 1795684\n13  chromedriver                        0x000000010058ec3c cxxbridge1$str$ptr + 1796064\n14  chromedriver                        0x000000010059d398 cxxbridge1$str$ptr + 1855292\n15  libsystem_pthread.dylib             0x0000000194737fa8 _pthread_start + 148\n16  libsystem_pthread.dylib             0x0000000194732da0 thread_start + 8\n",
     "output_type": "error",
     "traceback": [
      "\u001b[0;31m---------------------------------------------------------------------------\u001b[0m",
      "\u001b[0;31mNoSuchElementException\u001b[0m                    Traceback (most recent call last)",
      "Cell \u001b[0;32mIn[8], line 17\u001b[0m\n\u001b[1;32m      6\u001b[0m class_name \u001b[38;5;241m=\u001b[39m \u001b[38;5;124m'\u001b[39m\u001b[38;5;124mpost_article\u001b[39m\u001b[38;5;124m'\u001b[39m \n\u001b[1;32m      8\u001b[0m \u001b[38;5;66;03m# get contents\u001b[39;00m\n\u001b[1;32m      9\u001b[0m \u001b[38;5;66;03m# paragraphs = driver.find_elements(By.CSS_SELECTOR, f'.{class_name} p, .{class_name} h1, \\\u001b[39;00m\n\u001b[1;32m     10\u001b[0m \u001b[38;5;66;03m# .{class_name} h2, .{class_name} h3, .{class_name} h4, .{class_name} h5, .{class_name} h6')\u001b[39;00m\n\u001b[0;32m   (...)\u001b[0m\n\u001b[1;32m     15\u001b[0m \n\u001b[1;32m     16\u001b[0m \u001b[38;5;66;03m# get comments\u001b[39;00m\n\u001b[0;32m---> 17\u001b[0m comment_ad_banner \u001b[38;5;241m=\u001b[39m \u001b[43mdriver\u001b[49m\u001b[38;5;241;43m.\u001b[39;49m\u001b[43mfind_element\u001b[49m\u001b[43m(\u001b[49m\u001b[43mBy\u001b[49m\u001b[38;5;241;43m.\u001b[39;49m\u001b[43mCLASS_NAME\u001b[49m\u001b[43m,\u001b[49m\u001b[43m \u001b[49m\u001b[38;5;124;43m\"\u001b[39;49m\u001b[38;5;124;43mcomment ad_banner\u001b[39;49m\u001b[38;5;124;43m\"\u001b[39;49m\u001b[43m)\u001b[49m\n\u001b[1;32m     18\u001b[0m nicknames \u001b[38;5;241m=\u001b[39m comment_ad_banner\u001b[38;5;241m.\u001b[39mfind_elements(By\u001b[38;5;241m.\u001b[39mCLASS_NAME, \u001b[38;5;124m\"\u001b[39m\u001b[38;5;124mnickname\u001b[39m\u001b[38;5;124m\"\u001b[39m)\n\u001b[1;32m     19\u001b[0m \u001b[38;5;28;01mfor\u001b[39;00m idx, elem \u001b[38;5;129;01min\u001b[39;00m \u001b[38;5;28menumerate\u001b[39m(nicknames):\n",
      "File \u001b[0;32m~/Desktop/HMG/ws/Project/Crawling/.crawling/lib/python3.12/site-packages/selenium/webdriver/remote/webdriver.py:748\u001b[0m, in \u001b[0;36mWebDriver.find_element\u001b[0;34m(self, by, value)\u001b[0m\n\u001b[1;32m    745\u001b[0m     by \u001b[38;5;241m=\u001b[39m By\u001b[38;5;241m.\u001b[39mCSS_SELECTOR\n\u001b[1;32m    746\u001b[0m     value \u001b[38;5;241m=\u001b[39m \u001b[38;5;124mf\u001b[39m\u001b[38;5;124m'\u001b[39m\u001b[38;5;124m[name=\u001b[39m\u001b[38;5;124m\"\u001b[39m\u001b[38;5;132;01m{\u001b[39;00mvalue\u001b[38;5;132;01m}\u001b[39;00m\u001b[38;5;124m\"\u001b[39m\u001b[38;5;124m]\u001b[39m\u001b[38;5;124m'\u001b[39m\n\u001b[0;32m--> 748\u001b[0m \u001b[38;5;28;01mreturn\u001b[39;00m \u001b[38;5;28;43mself\u001b[39;49m\u001b[38;5;241;43m.\u001b[39;49m\u001b[43mexecute\u001b[49m\u001b[43m(\u001b[49m\u001b[43mCommand\u001b[49m\u001b[38;5;241;43m.\u001b[39;49m\u001b[43mFIND_ELEMENT\u001b[49m\u001b[43m,\u001b[49m\u001b[43m \u001b[49m\u001b[43m{\u001b[49m\u001b[38;5;124;43m\"\u001b[39;49m\u001b[38;5;124;43musing\u001b[39;49m\u001b[38;5;124;43m\"\u001b[39;49m\u001b[43m:\u001b[49m\u001b[43m \u001b[49m\u001b[43mby\u001b[49m\u001b[43m,\u001b[49m\u001b[43m \u001b[49m\u001b[38;5;124;43m\"\u001b[39;49m\u001b[38;5;124;43mvalue\u001b[39;49m\u001b[38;5;124;43m\"\u001b[39;49m\u001b[43m:\u001b[49m\u001b[43m \u001b[49m\u001b[43mvalue\u001b[49m\u001b[43m}\u001b[49m\u001b[43m)\u001b[49m[\u001b[38;5;124m\"\u001b[39m\u001b[38;5;124mvalue\u001b[39m\u001b[38;5;124m\"\u001b[39m]\n",
      "File \u001b[0;32m~/Desktop/HMG/ws/Project/Crawling/.crawling/lib/python3.12/site-packages/selenium/webdriver/remote/webdriver.py:354\u001b[0m, in \u001b[0;36mWebDriver.execute\u001b[0;34m(self, driver_command, params)\u001b[0m\n\u001b[1;32m    352\u001b[0m response \u001b[38;5;241m=\u001b[39m \u001b[38;5;28mself\u001b[39m\u001b[38;5;241m.\u001b[39mcommand_executor\u001b[38;5;241m.\u001b[39mexecute(driver_command, params)\n\u001b[1;32m    353\u001b[0m \u001b[38;5;28;01mif\u001b[39;00m response:\n\u001b[0;32m--> 354\u001b[0m     \u001b[38;5;28;43mself\u001b[39;49m\u001b[38;5;241;43m.\u001b[39;49m\u001b[43merror_handler\u001b[49m\u001b[38;5;241;43m.\u001b[39;49m\u001b[43mcheck_response\u001b[49m\u001b[43m(\u001b[49m\u001b[43mresponse\u001b[49m\u001b[43m)\u001b[49m\n\u001b[1;32m    355\u001b[0m     response[\u001b[38;5;124m\"\u001b[39m\u001b[38;5;124mvalue\u001b[39m\u001b[38;5;124m\"\u001b[39m] \u001b[38;5;241m=\u001b[39m \u001b[38;5;28mself\u001b[39m\u001b[38;5;241m.\u001b[39m_unwrap_value(response\u001b[38;5;241m.\u001b[39mget(\u001b[38;5;124m\"\u001b[39m\u001b[38;5;124mvalue\u001b[39m\u001b[38;5;124m\"\u001b[39m, \u001b[38;5;28;01mNone\u001b[39;00m))\n\u001b[1;32m    356\u001b[0m     \u001b[38;5;28;01mreturn\u001b[39;00m response\n",
      "File \u001b[0;32m~/Desktop/HMG/ws/Project/Crawling/.crawling/lib/python3.12/site-packages/selenium/webdriver/remote/errorhandler.py:229\u001b[0m, in \u001b[0;36mErrorHandler.check_response\u001b[0;34m(self, response)\u001b[0m\n\u001b[1;32m    227\u001b[0m         alert_text \u001b[38;5;241m=\u001b[39m value[\u001b[38;5;124m\"\u001b[39m\u001b[38;5;124malert\u001b[39m\u001b[38;5;124m\"\u001b[39m]\u001b[38;5;241m.\u001b[39mget(\u001b[38;5;124m\"\u001b[39m\u001b[38;5;124mtext\u001b[39m\u001b[38;5;124m\"\u001b[39m)\n\u001b[1;32m    228\u001b[0m     \u001b[38;5;28;01mraise\u001b[39;00m exception_class(message, screen, stacktrace, alert_text)  \u001b[38;5;66;03m# type: ignore[call-arg]  # mypy is not smart enough here\u001b[39;00m\n\u001b[0;32m--> 229\u001b[0m \u001b[38;5;28;01mraise\u001b[39;00m exception_class(message, screen, stacktrace)\n",
      "\u001b[0;31mNoSuchElementException\u001b[0m: Message: no such element: Unable to locate element: {\"method\":\"css selector\",\"selector\":\".comment ad_banner\"}\n  (Session info: chrome=127.0.6533.88); For documentation on this error, please visit: https://www.selenium.dev/documentation/webdriver/troubleshooting/errors#no-such-element-exception\nStacktrace:\n0   chromedriver                        0x00000001005a5088 cxxbridge1$str$ptr + 1887276\n1   chromedriver                        0x000000010059d764 cxxbridge1$str$ptr + 1856264\n2   chromedriver                        0x00000001001ac82c cxxbridge1$string$len + 88524\n3   chromedriver                        0x00000001001f0834 cxxbridge1$string$len + 367060\n4   chromedriver                        0x000000010022848c cxxbridge1$string$len + 595500\n5   chromedriver                        0x00000001001e5474 cxxbridge1$string$len + 321044\n6   chromedriver                        0x00000001001e60e4 cxxbridge1$string$len + 324228\n7   chromedriver                        0x000000010056ca6c cxxbridge1$str$ptr + 1656336\n8   chromedriver                        0x00000001005714c8 cxxbridge1$str$ptr + 1675372\n9   chromedriver                        0x0000000100552950 cxxbridge1$str$ptr + 1549556\n10  chromedriver                        0x0000000100571c78 cxxbridge1$str$ptr + 1677340\n11  chromedriver                        0x0000000100544660 cxxbridge1$str$ptr + 1491460\n12  chromedriver                        0x000000010058eac0 cxxbridge1$str$ptr + 1795684\n13  chromedriver                        0x000000010058ec3c cxxbridge1$str$ptr + 1796064\n14  chromedriver                        0x000000010059d398 cxxbridge1$str$ptr + 1855292\n15  libsystem_pthread.dylib             0x0000000194737fa8 _pthread_start + 148\n16  libsystem_pthread.dylib             0x0000000194732da0 thread_start + 8\n"
     ]
    }
   ],
   "source": [
    "for href in hrefs:\n",
    "    comments_nicknames = []\n",
    "    # open new page\n",
    "    driver.get(href)\n",
    "    time.sleep(3)\n",
    "    class_name = 'post_article' \n",
    "\n",
    "    # get contents\n",
    "    # paragraphs = driver.find_elements(By.CSS_SELECTOR, f'.{class_name} p, .{class_name} h1, \\\n",
    "    # .{class_name} h2, .{class_name} h3, .{class_name} h4, .{class_name} h5, .{class_name} h6')\n",
    "\n",
    "    # content=\"\"\n",
    "    # for para in paragraphs:\n",
    "    #     content += para.text\n",
    "\n",
    "    # get comments\n",
    "    comment_ad_banner = driver.find_element(By.CLASS_NAME, \"comment ad_banner\")\n",
    "    nicknames = comment_ad_banner.find_elements(By.CLASS_NAME, \"nickname\")\n",
    "    for idx, elem in enumerate(nicknames):\n",
    "        nickname = elem.text\n",
    "        comments_nicknames.append(nickname)\n",
    "\n",
    "    print(comments_nicknames)\n",
    "    break"
   ]
  },
  {
   "cell_type": "code",
   "execution_count": null,
   "id": "98813589-45d5-4313-ad13-14b17bf0fe8f",
   "metadata": {},
   "outputs": [],
   "source": [
    "driver.quit()"
   ]
  }
 ],
 "metadata": {
  "kernelspec": {
   "display_name": "crawling",
   "language": "python",
   "name": ".crawling"
  },
  "language_info": {
   "codemirror_mode": {
    "name": "ipython",
    "version": 3
   },
   "file_extension": ".py",
   "mimetype": "text/x-python",
   "name": "python",
   "nbconvert_exporter": "python",
   "pygments_lexer": "ipython3",
   "version": "3.12.4"
  }
 },
 "nbformat": 4,
 "nbformat_minor": 5
}
