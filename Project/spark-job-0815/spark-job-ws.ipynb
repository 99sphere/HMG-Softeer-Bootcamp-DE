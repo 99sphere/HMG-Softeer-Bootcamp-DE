{
 "cells": [
  {
   "cell_type": "code",
   "execution_count": 24,
   "id": "de051d25-c429-42ba-9caf-fd1914b1dfbb",
   "metadata": {
    "execution": {
     "iopub.execute_input": "2024-08-15T10:50:57.785919Z",
     "iopub.status.busy": "2024-08-15T10:50:57.785509Z",
     "iopub.status.idle": "2024-08-15T10:50:57.929262Z",
     "shell.execute_reply": "2024-08-15T10:50:57.928651Z",
     "shell.execute_reply.started": "2024-08-15T10:50:57.785885Z"
    },
    "tags": []
   },
   "outputs": [
    {
     "data": {
      "application/vnd.jupyter.widget-view+json": {
       "model_id": "44312c842f0149718bfdc1c6d66bb22e",
       "version_major": 2,
       "version_minor": 0
      },
      "text/plain": [
       "VBox()"
      ]
     },
     "metadata": {},
     "output_type": "display_data"
    },
    {
     "data": {
      "application/vnd.jupyter.widget-view+json": {
       "model_id": "",
       "version_major": 2,
       "version_minor": 0
      },
      "text/plain": [
       "FloatProgress(value=0.0, bar_style='info', description='Progress:', layout=Layout(height='25px', width='50%'),…"
      ]
     },
     "metadata": {},
     "output_type": "display_data"
    }
   ],
   "source": [
    "from pyspark import SparkConf\n",
    "from pyspark.sql import SparkSession, Row\n",
    "from pyspark.sql.functions import isnull, avg, min, date_format\n",
    "from pyspark.sql.functions import pandas_udf, PandasUDFType\n",
    "from pyspark.sql.types import DoubleType, StructField\n",
    "import pyspark.sql.functions as F\n",
    "import pyspark.pandas as ps\n",
    "ps.set_option('compute.ops_on_diff_frames', True)"
   ]
  },
  {
   "cell_type": "code",
   "execution_count": 25,
   "id": "69fbe481-2c96-4d6a-9c74-defc32472828",
   "metadata": {
    "execution": {
     "iopub.execute_input": "2024-08-15T10:50:58.572485Z",
     "iopub.status.busy": "2024-08-15T10:50:58.572163Z",
     "iopub.status.idle": "2024-08-15T10:50:59.445040Z",
     "shell.execute_reply": "2024-08-15T10:50:59.444359Z",
     "shell.execute_reply.started": "2024-08-15T10:50:58.572456Z"
    },
    "tags": []
   },
   "outputs": [
    {
     "data": {
      "application/vnd.jupyter.widget-view+json": {
       "model_id": "7215065c29f640be80ef6e003fbddbd2",
       "version_major": 2,
       "version_minor": 0
      },
      "text/plain": [
       "VBox()"
      ]
     },
     "metadata": {},
     "output_type": "display_data"
    },
    {
     "data": {
      "application/vnd.jupyter.widget-view+json": {
       "model_id": "",
       "version_major": 2,
       "version_minor": 0
      },
      "text/plain": [
       "FloatProgress(value=0.0, bar_style='info', description='Progress:', layout=Layout(height='25px', width='50%'),…"
      ]
     },
     "metadata": {},
     "output_type": "display_data"
    }
   ],
   "source": [
    "POSTS_FP = \"s3://de3-extract-results/naver_cafe_posts.csv\"\n",
    "VIEW_TABLE_DIR = \"s3://softter-de3-quicksight/\"\n",
    "\n",
    "posts_df = spark.read.option(\"header\", True).csv(POSTS_FP)\n",
    "# comments_df = spark.read.option(\"header\", True).csv(COMMENTS_FP)"
   ]
  },
  {
   "cell_type": "code",
   "execution_count": 26,
   "id": "bea9a2c0-03b9-46a6-8319-862ea2c4572e",
   "metadata": {
    "execution": {
     "iopub.execute_input": "2024-08-15T10:50:59.446529Z",
     "iopub.status.busy": "2024-08-15T10:50:59.446251Z",
     "iopub.status.idle": "2024-08-15T10:51:00.323250Z",
     "shell.execute_reply": "2024-08-15T10:51:00.322590Z",
     "shell.execute_reply.started": "2024-08-15T10:50:59.446503Z"
    },
    "tags": []
   },
   "outputs": [
    {
     "data": {
      "application/vnd.jupyter.widget-view+json": {
       "model_id": "2df782908f9f47d0abd6be9d67796365",
       "version_major": 2,
       "version_minor": 0
      },
      "text/plain": [
       "VBox()"
      ]
     },
     "metadata": {},
     "output_type": "display_data"
    },
    {
     "data": {
      "application/vnd.jupyter.widget-view+json": {
       "model_id": "",
       "version_major": 2,
       "version_minor": 0
      },
      "text/plain": [
       "FloatProgress(value=0.0, bar_style='info', description='Progress:', layout=Layout(height='25px', width='50%'),…"
      ]
     },
     "metadata": {},
     "output_type": "display_data"
    },
    {
     "name": "stdout",
     "output_type": "stream",
     "text": [
      "-RECORD 0--------------------------------------\n",
      " id         | 1129062                          \n",
      " title      | 전기차 화재                      \n",
      " content    | [뉴스토리] 전기차 화재의 비밀... \n",
      " likes      | 1.0                              \n",
      " url        | https://cafe.nave...             \n",
      " author     | 둥이아부지I봉고I광주             \n",
      " views      | 790                              \n",
      " created_at | 2023-01-28 17:18:00              \n",
      " updated_at | null                             \n",
      "only showing top 1 row"
     ]
    }
   ],
   "source": [
    "posts_df.show(1, vertical=True)"
   ]
  },
  {
   "cell_type": "code",
   "execution_count": 27,
   "id": "803cb1c1-65d2-4b20-97e6-2b1464bfa4d6",
   "metadata": {
    "execution": {
     "iopub.execute_input": "2024-08-15T10:51:00.324851Z",
     "iopub.status.busy": "2024-08-15T10:51:00.324569Z",
     "iopub.status.idle": "2024-08-15T10:51:00.463604Z",
     "shell.execute_reply": "2024-08-15T10:51:00.462986Z",
     "shell.execute_reply.started": "2024-08-15T10:51:00.324826Z"
    },
    "tags": []
   },
   "outputs": [
    {
     "data": {
      "application/vnd.jupyter.widget-view+json": {
       "model_id": "708daa0dda684973b7fdcc31326593b5",
       "version_major": 2,
       "version_minor": 0
      },
      "text/plain": [
       "VBox()"
      ]
     },
     "metadata": {},
     "output_type": "display_data"
    },
    {
     "data": {
      "application/vnd.jupyter.widget-view+json": {
       "model_id": "",
       "version_major": 2,
       "version_minor": 0
      },
      "text/plain": [
       "FloatProgress(value=0.0, bar_style='info', description='Progress:', layout=Layout(height='25px', width='50%'),…"
      ]
     },
     "metadata": {},
     "output_type": "display_data"
    },
    {
     "name": "stdout",
     "output_type": "stream",
     "text": [
      "<class 'pyspark.sql.dataframe.DataFrame'>"
     ]
    }
   ],
   "source": [
    "posts_df = posts_df.withColumn(\"created_day\", F.to_date(posts_df[\"created_at\"], \"yyyy-MM-dd HH:mm:ss\"))\n",
    "type(posts_df)"
   ]
  },
  {
   "cell_type": "code",
   "execution_count": 28,
   "id": "15e7d528-3e23-4325-a3a7-ab9ff0912222",
   "metadata": {
    "execution": {
     "iopub.execute_input": "2024-08-15T10:51:00.464815Z",
     "iopub.status.busy": "2024-08-15T10:51:00.464543Z",
     "iopub.status.idle": "2024-08-15T10:51:00.825974Z",
     "shell.execute_reply": "2024-08-15T10:51:00.825345Z",
     "shell.execute_reply.started": "2024-08-15T10:51:00.464790Z"
    },
    "tags": []
   },
   "outputs": [
    {
     "data": {
      "application/vnd.jupyter.widget-view+json": {
       "model_id": "967e9961c54b48b592eebf2f340d678a",
       "version_major": 2,
       "version_minor": 0
      },
      "text/plain": [
       "VBox()"
      ]
     },
     "metadata": {},
     "output_type": "display_data"
    },
    {
     "data": {
      "application/vnd.jupyter.widget-view+json": {
       "model_id": "",
       "version_major": 2,
       "version_minor": 0
      },
      "text/plain": [
       "FloatProgress(value=0.0, bar_style='info', description='Progress:', layout=Layout(height='25px', width='50%'),…"
      ]
     },
     "metadata": {},
     "output_type": "display_data"
    },
    {
     "name": "stdout",
     "output_type": "stream",
     "text": [
      "-RECORD 0---------------------------------------\n",
      " id          | 1129062                          \n",
      " title       | 전기차 화재                      \n",
      " content     | [뉴스토리] 전기차 화재의 비밀... \n",
      " likes       | 1.0                              \n",
      " url         | https://cafe.nave...             \n",
      " author      | 둥이아부지I봉고I광주             \n",
      " views       | 790                              \n",
      " created_at  | 2023-01-28 17:18:00              \n",
      " updated_at  | null                             \n",
      " created_day | 2023-01-28                       \n",
      "only showing top 1 row"
     ]
    }
   ],
   "source": [
    "posts_df.show(1, vertical=True)\n",
    "posts_df = posts_df.fillna(0)"
   ]
  },
  {
   "cell_type": "code",
   "execution_count": 29,
   "id": "ea7bc3d4-68b0-4e65-bb8f-71f7ed9b3a69",
   "metadata": {
    "execution": {
     "iopub.execute_input": "2024-08-15T10:51:00.827430Z",
     "iopub.status.busy": "2024-08-15T10:51:00.827155Z",
     "iopub.status.idle": "2024-08-15T10:51:01.735527Z",
     "shell.execute_reply": "2024-08-15T10:51:01.734867Z",
     "shell.execute_reply.started": "2024-08-15T10:51:00.827405Z"
    },
    "tags": []
   },
   "outputs": [
    {
     "data": {
      "application/vnd.jupyter.widget-view+json": {
       "model_id": "50ca08a52461459299b3e7f8af23df00",
       "version_major": 2,
       "version_minor": 0
      },
      "text/plain": [
       "VBox()"
      ]
     },
     "metadata": {},
     "output_type": "display_data"
    },
    {
     "data": {
      "application/vnd.jupyter.widget-view+json": {
       "model_id": "",
       "version_major": 2,
       "version_minor": 0
      },
      "text/plain": [
       "FloatProgress(value=0.0, bar_style='info', description='Progress:', layout=Layout(height='25px', width='50%'),…"
      ]
     },
     "metadata": {},
     "output_type": "display_data"
    },
    {
     "name": "stdout",
     "output_type": "stream",
     "text": [
      "+-----------+-----------+---------+---------+\n",
      "|created_day|count_title|sum_views|sum_likes|\n",
      "+-----------+-----------+---------+---------+\n",
      "| 2022-08-02|          1|      0.0|      1.0|\n",
      "| 2023-09-14|          1|    342.0|      0.0|\n",
      "| 2024-06-12|          1|      0.0|      1.0|\n",
      "| 2021-09-14|          1|      0.0|      0.0|\n",
      "| 2021-04-24|          2|    541.0|      0.0|\n",
      "| 2021-07-23|          2|    146.0|      1.0|\n",
      "| 2022-07-07|          1|    418.0|      0.0|\n",
      "| 2023-01-01|          2|    979.0|      0.0|\n",
      "| 2022-12-20|          2|   1164.0|      0.0|\n",
      "| 2024-05-19|          1|      0.0|      1.0|\n",
      "| 2021-02-02|          6|   1723.0|      8.0|\n",
      "| 2024-03-28|          2|      0.0|      5.0|\n",
      "| 2022-01-09|          1|    260.0|      0.0|\n",
      "| 2022-04-27|          1|    139.0|      0.0|\n",
      "| 2022-07-05|          1|    726.0|      4.0|\n",
      "| 2023-07-04|          1|      0.0|      0.0|\n",
      "| 2022-01-18|          1|    616.0|      0.0|\n",
      "| 2021-12-14|          2|      0.0|      0.0|\n",
      "| 2023-08-03|          1|    338.0|      0.0|\n",
      "| 2021-07-08|          2|      0.0|      0.0|\n",
      "+-----------+-----------+---------+---------+\n",
      "only showing top 20 rows"
     ]
    }
   ],
   "source": [
    "posts_group_by_day_df = posts_df.groupby(\"created_day\").agg({'title': 'count', 'likes': 'sum', 'views': 'sum'})\n",
    "new_col_names = ['created_day', 'count_title', 'sum_views', 'sum_likes']\n",
    "posts_group_by_day_df = posts_group_by_day_df.toDF(*new_col_names)\n",
    "posts_group_by_day_df = posts_group_by_day_df.fillna(0)\n",
    "posts_group_by_day_df.show()"
   ]
  },
  {
   "cell_type": "code",
   "execution_count": 30,
   "id": "4d217954-bbcf-4271-96f4-e912c585d46c",
   "metadata": {
    "execution": {
     "iopub.execute_input": "2024-08-15T10:51:01.737128Z",
     "iopub.status.busy": "2024-08-15T10:51:01.736843Z",
     "iopub.status.idle": "2024-08-15T10:51:02.126993Z",
     "shell.execute_reply": "2024-08-15T10:51:02.126362Z",
     "shell.execute_reply.started": "2024-08-15T10:51:01.737102Z"
    },
    "tags": []
   },
   "outputs": [
    {
     "data": {
      "application/vnd.jupyter.widget-view+json": {
       "model_id": "64ed5ff02eca4134a6fc16a5c92608cb",
       "version_major": 2,
       "version_minor": 0
      },
      "text/plain": [
       "VBox()"
      ]
     },
     "metadata": {},
     "output_type": "display_data"
    },
    {
     "data": {
      "application/vnd.jupyter.widget-view+json": {
       "model_id": "",
       "version_major": 2,
       "version_minor": 0
      },
      "text/plain": [
       "FloatProgress(value=0.0, bar_style='info', description='Progress:', layout=Layout(height='25px', width='50%'),…"
      ]
     },
     "metadata": {},
     "output_type": "display_data"
    },
    {
     "name": "stdout",
     "output_type": "stream",
     "text": [
      "/usr/lib/spark/python/lib/pyspark.zip/pyspark/sql/dataframe.py:5252: FutureWarning: DataFrame.to_pandas_on_spark is deprecated. Use DataFrame.pandas_api instead.\n",
      "  FutureWarning,"
     ]
    }
   ],
   "source": [
    "posts_group_by_day_df = posts_group_by_day_df.to_pandas_on_spark()"
   ]
  },
  {
   "cell_type": "code",
   "execution_count": 31,
   "id": "b27ceea2-6210-4223-ac0f-18ce5c4a8f46",
   "metadata": {
    "execution": {
     "iopub.execute_input": "2024-08-15T10:51:02.128178Z",
     "iopub.status.busy": "2024-08-15T10:51:02.127905Z",
     "iopub.status.idle": "2024-08-15T10:51:02.266804Z",
     "shell.execute_reply": "2024-08-15T10:51:02.266198Z",
     "shell.execute_reply.started": "2024-08-15T10:51:02.128154Z"
    },
    "tags": []
   },
   "outputs": [
    {
     "data": {
      "application/vnd.jupyter.widget-view+json": {
       "model_id": "847715fc517a492bb62fe7c34ad4bd64",
       "version_major": 2,
       "version_minor": 0
      },
      "text/plain": [
       "VBox()"
      ]
     },
     "metadata": {},
     "output_type": "display_data"
    },
    {
     "data": {
      "application/vnd.jupyter.widget-view+json": {
       "model_id": "",
       "version_major": 2,
       "version_minor": 0
      },
      "text/plain": [
       "FloatProgress(value=0.0, bar_style='info', description='Progress:', layout=Layout(height='25px', width='50%'),…"
      ]
     },
     "metadata": {},
     "output_type": "display_data"
    },
    {
     "name": "stdout",
     "output_type": "stream",
     "text": [
      "<class 'pyspark.pandas.frame.DataFrame'>"
     ]
    }
   ],
   "source": [
    "# posts_group_by_day_df.count_title.ewm(alpha=0.6).mean()\n",
    "type(posts_group_by_day_df)"
   ]
  },
  {
   "cell_type": "code",
   "execution_count": 32,
   "id": "55c833e2-c662-4962-ab5d-5573ab6b427b",
   "metadata": {
    "execution": {
     "iopub.execute_input": "2024-08-15T10:51:02.268014Z",
     "iopub.status.busy": "2024-08-15T10:51:02.267724Z",
     "iopub.status.idle": "2024-08-15T10:51:03.145933Z",
     "shell.execute_reply": "2024-08-15T10:51:03.145292Z",
     "shell.execute_reply.started": "2024-08-15T10:51:02.267988Z"
    },
    "tags": []
   },
   "outputs": [
    {
     "data": {
      "application/vnd.jupyter.widget-view+json": {
       "model_id": "95f20f49e5a541ca97640495308f729c",
       "version_major": 2,
       "version_minor": 0
      },
      "text/plain": [
       "VBox()"
      ]
     },
     "metadata": {},
     "output_type": "display_data"
    },
    {
     "data": {
      "application/vnd.jupyter.widget-view+json": {
       "model_id": "",
       "version_major": 2,
       "version_minor": 0
      },
      "text/plain": [
       "FloatProgress(value=0.0, bar_style='info', description='Progress:', layout=Layout(height='25px', width='50%'),…"
      ]
     },
     "metadata": {},
     "output_type": "display_data"
    },
    {
     "name": "stdout",
     "output_type": "stream",
     "text": [
      "  created_day  count_title  sum_views  sum_likes\n",
      "0  2022-08-02            1        0.0        1.0\n",
      "1  2023-09-14            1      342.0        0.0\n",
      "2  2024-06-12            1        0.0        1.0\n",
      "3  2021-09-14            1        0.0        0.0\n",
      "4  2021-04-24            2      541.0        0.0"
     ]
    }
   ],
   "source": [
    "posts_group_by_day_df.head()"
   ]
  },
  {
   "cell_type": "code",
   "execution_count": 33,
   "id": "00669734-e1cd-4736-a3d0-5194ce2aab64",
   "metadata": {
    "execution": {
     "iopub.execute_input": "2024-08-15T10:51:03.147748Z",
     "iopub.status.busy": "2024-08-15T10:51:03.147417Z",
     "iopub.status.idle": "2024-08-15T10:51:03.371133Z",
     "shell.execute_reply": "2024-08-15T10:51:03.370384Z",
     "shell.execute_reply.started": "2024-08-15T10:51:03.147719Z"
    },
    "tags": []
   },
   "outputs": [
    {
     "data": {
      "application/vnd.jupyter.widget-view+json": {
       "model_id": "3ee5a91fa4c44f4d9283c0e46c393628",
       "version_major": 2,
       "version_minor": 0
      },
      "text/plain": [
       "VBox()"
      ]
     },
     "metadata": {},
     "output_type": "display_data"
    },
    {
     "data": {
      "application/vnd.jupyter.widget-view+json": {
       "model_id": "",
       "version_major": 2,
       "version_minor": 0
      },
      "text/plain": [
       "FloatProgress(value=0.0, bar_style='info', description='Progress:', layout=Layout(height='25px', width='50%'),…"
      ]
     },
     "metadata": {},
     "output_type": "display_data"
    }
   ],
   "source": []
  },
  {
   "cell_type": "code",
   "execution_count": 34,
   "id": "c3c91d4c-e987-4f75-9e01-83f37763c44d",
   "metadata": {
    "execution": {
     "iopub.execute_input": "2024-08-15T10:51:03.372369Z",
     "iopub.status.busy": "2024-08-15T10:51:03.372093Z",
     "iopub.status.idle": "2024-08-15T10:51:03.728031Z",
     "shell.execute_reply": "2024-08-15T10:51:03.727328Z",
     "shell.execute_reply.started": "2024-08-15T10:51:03.372343Z"
    },
    "tags": []
   },
   "outputs": [
    {
     "data": {
      "application/vnd.jupyter.widget-view+json": {
       "model_id": "876328f97e6d453e9374145083d659a4",
       "version_major": 2,
       "version_minor": 0
      },
      "text/plain": [
       "VBox()"
      ]
     },
     "metadata": {},
     "output_type": "display_data"
    },
    {
     "data": {
      "application/vnd.jupyter.widget-view+json": {
       "model_id": "",
       "version_major": 2,
       "version_minor": 0
      },
      "text/plain": [
       "FloatProgress(value=0.0, bar_style='info', description='Progress:', layout=Layout(height='25px', width='50%'),…"
      ]
     },
     "metadata": {},
     "output_type": "display_data"
    }
   ],
   "source": []
  },
  {
   "cell_type": "code",
   "execution_count": 35,
   "id": "3b6a8b6b-fd87-4c8b-9b51-ff195003b8ae",
   "metadata": {
    "execution": {
     "iopub.execute_input": "2024-08-15T10:51:03.729587Z",
     "iopub.status.busy": "2024-08-15T10:51:03.729289Z",
     "iopub.status.idle": "2024-08-15T10:51:04.087442Z",
     "shell.execute_reply": "2024-08-15T10:51:04.086707Z",
     "shell.execute_reply.started": "2024-08-15T10:51:03.729563Z"
    },
    "tags": []
   },
   "outputs": [
    {
     "data": {
      "application/vnd.jupyter.widget-view+json": {
       "model_id": "fff46331d118492ab247968efccdb0df",
       "version_major": 2,
       "version_minor": 0
      },
      "text/plain": [
       "VBox()"
      ]
     },
     "metadata": {},
     "output_type": "display_data"
    },
    {
     "data": {
      "application/vnd.jupyter.widget-view+json": {
       "model_id": "",
       "version_major": 2,
       "version_minor": 0
      },
      "text/plain": [
       "FloatProgress(value=0.0, bar_style='info', description='Progress:', layout=Layout(height='25px', width='50%'),…"
      ]
     },
     "metadata": {},
     "output_type": "display_data"
    }
   ],
   "source": [
    "posts_group_by_day_df = posts_group_by_day_df.sort_values('created_day')"
   ]
  },
  {
   "cell_type": "code",
   "execution_count": 36,
   "id": "da182925-84c4-43fc-aa55-87f37dedabb5",
   "metadata": {
    "execution": {
     "iopub.execute_input": "2024-08-15T10:51:04.142611Z",
     "iopub.status.busy": "2024-08-15T10:51:04.142305Z",
     "iopub.status.idle": "2024-08-15T10:51:05.017165Z",
     "shell.execute_reply": "2024-08-15T10:51:05.016526Z",
     "shell.execute_reply.started": "2024-08-15T10:51:04.142584Z"
    },
    "tags": []
   },
   "outputs": [
    {
     "data": {
      "application/vnd.jupyter.widget-view+json": {
       "model_id": "676e25a25fab4944ba98d825a0a2dc72",
       "version_major": 2,
       "version_minor": 0
      },
      "text/plain": [
       "VBox()"
      ]
     },
     "metadata": {},
     "output_type": "display_data"
    },
    {
     "data": {
      "application/vnd.jupyter.widget-view+json": {
       "model_id": "",
       "version_major": 2,
       "version_minor": 0
      },
      "text/plain": [
       "FloatProgress(value=0.0, bar_style='info', description='Progress:', layout=Layout(height='25px', width='50%'),…"
      ]
     },
     "metadata": {},
     "output_type": "display_data"
    },
    {
     "name": "stdout",
     "output_type": "stream",
     "text": [
      "    created_day  count_title  sum_views  sum_likes  count_smoothed\n",
      "390  2020-01-09            1      553.0        0.0        1.652083\n",
      "83   2020-01-12            1      850.0        4.0        1.005409\n",
      "227  2020-01-19            1      728.0        1.0        1.022999\n",
      "691  2020-02-07            1        0.0        1.0        4.157724\n",
      "311  2020-03-21            2      857.0        0.0        1.739562"
     ]
    }
   ],
   "source": [
    "posts_group_by_day_df.head()"
   ]
  },
  {
   "cell_type": "code",
   "execution_count": 37,
   "id": "1e1a351d-f79d-4884-b5f9-c85b5bd8118b",
   "metadata": {
    "execution": {
     "iopub.execute_input": "2024-08-15T10:51:05.018691Z",
     "iopub.status.busy": "2024-08-15T10:51:05.018399Z",
     "iopub.status.idle": "2024-08-15T10:51:07.829877Z",
     "shell.execute_reply": "2024-08-15T10:51:07.829152Z",
     "shell.execute_reply.started": "2024-08-15T10:51:05.018663Z"
    },
    "tags": []
   },
   "outputs": [
    {
     "data": {
      "application/vnd.jupyter.widget-view+json": {
       "model_id": "0a823a9334784075a196d8d5d7e5076f",
       "version_major": 2,
       "version_minor": 0
      },
      "text/plain": [
       "VBox()"
      ]
     },
     "metadata": {},
     "output_type": "display_data"
    },
    {
     "data": {
      "application/vnd.jupyter.widget-view+json": {
       "model_id": "",
       "version_major": 2,
       "version_minor": 0
      },
      "text/plain": [
       "FloatProgress(value=0.0, bar_style='info', description='Progress:', layout=Layout(height='25px', width='50%'),…"
      ]
     },
     "metadata": {},
     "output_type": "display_data"
    }
   ],
   "source": [
    "# start date is min date\n",
    "date_min=posts_group_by_day_df.agg({'created_day': 'min'})[0]\n",
    "date_max=posts_group_by_day_df.agg({'created_day': 'max'})[0]"
   ]
  },
  {
   "cell_type": "code",
   "execution_count": 38,
   "id": "89dafe98-78e9-4f6c-abe8-46f52c1a2f47",
   "metadata": {
    "execution": {
     "iopub.execute_input": "2024-08-15T10:51:07.831449Z",
     "iopub.status.busy": "2024-08-15T10:51:07.831150Z",
     "iopub.status.idle": "2024-08-15T10:51:08.196427Z",
     "shell.execute_reply": "2024-08-15T10:51:08.195805Z",
     "shell.execute_reply.started": "2024-08-15T10:51:07.831423Z"
    },
    "tags": []
   },
   "outputs": [
    {
     "data": {
      "application/vnd.jupyter.widget-view+json": {
       "model_id": "81e6b9cdf6d74155bcfcee4a83bf2d84",
       "version_major": 2,
       "version_minor": 0
      },
      "text/plain": [
       "VBox()"
      ]
     },
     "metadata": {},
     "output_type": "display_data"
    },
    {
     "data": {
      "application/vnd.jupyter.widget-view+json": {
       "model_id": "",
       "version_major": 2,
       "version_minor": 0
      },
      "text/plain": [
       "FloatProgress(value=0.0, bar_style='info', description='Progress:', layout=Layout(height='25px', width='50%'),…"
      ]
     },
     "metadata": {},
     "output_type": "display_data"
    }
   ],
   "source": [
    "full_date_df = ps.date_range(start=date_min, end=date_max, freq='D', name='date').to_frame()"
   ]
  },
  {
   "cell_type": "code",
   "execution_count": 39,
   "id": "2375e29f-a587-4591-89df-e02b1212e3e7",
   "metadata": {
    "execution": {
     "iopub.execute_input": "2024-08-15T10:51:08.197608Z",
     "iopub.status.busy": "2024-08-15T10:51:08.197329Z",
     "iopub.status.idle": "2024-08-15T10:51:08.553644Z",
     "shell.execute_reply": "2024-08-15T10:51:08.553040Z",
     "shell.execute_reply.started": "2024-08-15T10:51:08.197583Z"
    },
    "tags": []
   },
   "outputs": [
    {
     "data": {
      "application/vnd.jupyter.widget-view+json": {
       "model_id": "3e877edd3409401cb51f71411b112f19",
       "version_major": 2,
       "version_minor": 0
      },
      "text/plain": [
       "VBox()"
      ]
     },
     "metadata": {},
     "output_type": "display_data"
    },
    {
     "data": {
      "application/vnd.jupyter.widget-view+json": {
       "model_id": "",
       "version_major": 2,
       "version_minor": 0
      },
      "text/plain": [
       "FloatProgress(value=0.0, bar_style='info', description='Progress:', layout=Layout(height='25px', width='50%'),…"
      ]
     },
     "metadata": {},
     "output_type": "display_data"
    }
   ],
   "source": [
    "output_df = ps.merge(full_date_df, posts_group_by_day_df, left_on = 'date', right_on='created_day', how='left').sort_values(by=['date'])\n",
    "\n",
    "count_title_df = posts_group_by_day_df[['count_title']]\n",
    "posts_group_by_day_df['count_smoothed'] = count_title_df.ewm(alpha=0.7, min_periods=1).mean()\n",
    "\n",
    "\n",
    "output_df = output_df.drop(columns=['created_day'])\n",
    "output_df = output_df.fillna(0)"
   ]
  },
  {
   "cell_type": "code",
   "execution_count": 40,
   "id": "00b8e52c-8148-4985-80f1-92e6c2ee9ac1",
   "metadata": {
    "execution": {
     "iopub.execute_input": "2024-08-15T10:51:08.554802Z",
     "iopub.status.busy": "2024-08-15T10:51:08.554524Z",
     "iopub.status.idle": "2024-08-15T10:51:14.043563Z",
     "shell.execute_reply": "2024-08-15T10:51:14.042941Z",
     "shell.execute_reply.started": "2024-08-15T10:51:08.554777Z"
    },
    "tags": []
   },
   "outputs": [
    {
     "data": {
      "application/vnd.jupyter.widget-view+json": {
       "model_id": "4bce367e16404471951e1af4a44c65f4",
       "version_major": 2,
       "version_minor": 0
      },
      "text/plain": [
       "VBox()"
      ]
     },
     "metadata": {},
     "output_type": "display_data"
    },
    {
     "data": {
      "application/vnd.jupyter.widget-view+json": {
       "model_id": "",
       "version_major": 2,
       "version_minor": 0
      },
      "text/plain": [
       "FloatProgress(value=0.0, bar_style='info', description='Progress:', layout=Layout(height='25px', width='50%'),…"
      ]
     },
     "metadata": {},
     "output_type": "display_data"
    },
    {
     "name": "stdout",
     "output_type": "stream",
     "text": [
      "/usr/lib/spark/python/lib/pyspark.zip/pyspark/pandas/utils.py:975: PandasAPIOnSparkAdviceWarning: If `index_col` is not specified for `to_spark`, the existing index is lost when converting to Spark DataFrame.\n",
      "  warnings.warn(message, PandasAPIOnSparkAdviceWarning)"
     ]
    }
   ],
   "source": [
    "output_df.to_csv(VIEW_TABLE_DIR+\"dashboard_example\", mode='overwrite', header=True)\n",
    "posts_df.coalesce(1).write.option(\"header\", True).mode('overwrite').csv(VIEW_TABLE_DIR+\"naver_cafe_posts\")    "
   ]
  }
 ],
 "metadata": {
  "kernelspec": {
   "display_name": "PySpark",
   "language": "python",
   "name": "spark_magic_pyspark"
  },
  "language_info": {
   "codemirror_mode": {
    "name": "python",
    "version": 3
   },
   "file_extension": ".py",
   "mimetype": "text/x-python",
   "name": "pyspark",
   "pygments_lexer": "python3"
  }
 },
 "nbformat": 4,
 "nbformat_minor": 5
}
