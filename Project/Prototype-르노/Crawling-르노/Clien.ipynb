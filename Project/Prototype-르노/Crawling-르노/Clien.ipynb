{
 "cells": [
  {
   "cell_type": "code",
   "execution_count": 1,
   "id": "64d2518f-b60e-4d13-87aa-ba69078031df",
   "metadata": {},
   "outputs": [],
   "source": [
    "from selenium import webdriver\n",
    "from selenium.webdriver.common.keys import Keys\n",
    "from selenium.webdriver.common.by import By\n",
    "from bs4 import BeautifulSoup\n",
    "import time\n",
    "import re"
   ]
  },
  {
   "cell_type": "code",
   "execution_count": 2,
   "id": "5b8ba1a7-eefc-4a0f-8e0c-518c9cf5dcde",
   "metadata": {},
   "outputs": [],
   "source": [
    "# Utils\n",
    "start_date = '2024-06-20 00:00:00'\n",
    "end_date = '2024-07-20 23:59:59'\n",
    "\n",
    "def inRange(start_date, end_date, time):\n",
    "    return start_date <= time <= end_date\n",
    "\n",
    "before_start=True"
   ]
  },
  {
   "cell_type": "code",
   "execution_count": 3,
   "id": "3015f0e2-727c-4e53-b1c7-5f968950a7d7",
   "metadata": {},
   "outputs": [
    {
     "data": {
      "text/plain": [
       "False"
      ]
     },
     "execution_count": 3,
     "metadata": {},
     "output_type": "execute_result"
    }
   ],
   "source": [
    "test = '2024-06-19 23:59:59'\n",
    "inRange(start_date, end_date, test)"
   ]
  },
  {
   "cell_type": "code",
   "execution_count": 4,
   "id": "730fd206-9178-4edf-b2bd-3cb8db004767",
   "metadata": {},
   "outputs": [],
   "source": [
    "# 게시물 검색 페이지 (page_num으로 지정 가능)\n",
    "driver = webdriver.Chrome() \n",
    "page_num=0\n",
    "driver.get(f'https://www.clien.net/service/search?q=%EB%A5%B4%EB%85%B8&sort=recency&p={page_num}&boardCd=&isBoard=false')\n",
    "time.sleep(1)"
   ]
  },
  {
   "cell_type": "markdown",
   "id": "4e9e965a-991a-47be-abf3-c3021b28ee0f",
   "metadata": {},
   "source": [
    "- 검색했을 때, 최대 50페이지만 보여줌"
   ]
  },
  {
   "cell_type": "code",
   "execution_count": 5,
   "id": "422c7c40-08ed-41d5-98c2-b1fa227ee5b6",
   "metadata": {},
   "outputs": [],
   "source": [
    "# get post id\n",
    "# `data-board-sn` 값을 가진 요소 찾기"
   ]
  },
  {
   "cell_type": "code",
   "execution_count": 6,
   "id": "9e9ff8af-665c-41e3-a10e-a7e7c9ffd53e",
   "metadata": {},
   "outputs": [],
   "source": [
    "# per page\n",
    "news_titles_elem = driver.find_elements(By.CLASS_NAME, \"subject_fixed\")\n",
    "created_ats_elem = driver.find_elements(By.CLASS_NAME, \"timestamp\")\n",
    "authors_elem = driver.find_elements(By.CLASS_NAME, \"nickname\")\n",
    "\n",
    "titles = []\n",
    "hrefs = []\n",
    "created_ats = []\n",
    "authors = []\n",
    "\n",
    "# get title\n",
    "for i in news_titles_elem:\n",
    "    titles.append(i.text)\n",
    "    hrefs.append(i.get_attribute('href'))\n",
    "\n",
    "# get datetime\n",
    "for i in created_ats_elem:\n",
    "    created_ats.append(i.get_attribute('textContent'))\n",
    "\n",
    "# get author name\n",
    "images_elem = driver.find_elements(By.CSS_SELECTOR, 'span.nickname img') # for gif nickname\n",
    "gif_nick_cnt = 0\n",
    "for idx, elem in enumerate(authors_elem):\n",
    "    nickname = elem.text\n",
    "    if nickname == '':\n",
    "        nickname = images_elem[gif_nick_cnt].get_attribute('alt')\n",
    "        gif_nick_cnt+=1\n",
    "    authors.append(nickname)"
   ]
  },
  {
   "cell_type": "code",
   "execution_count": 11,
   "id": "e41c9be5-d306-486f-9928-1c0089e944d8",
   "metadata": {},
   "outputs": [
    {
     "name": "stdout",
     "output_type": "stream",
     "text": [
      "None\n",
      "None\n",
      "None\n",
      "수정일 : 2024-07-27 18:47:00\n",
      "None\n",
      "수정일 : 2024-07-25 22:13:52\n",
      "수정일 : 2024-07-22 23:03:32\n",
      "None\n",
      "수정일 : 2024-07-22 13:06:51\n",
      "None\n",
      "None\n",
      "None\n",
      "수정일 : 2024-07-20 21:41:54\n",
      "None\n",
      "수정일 : 2024-07-20 01:20:49\n",
      "수정일 : 2024-07-19 21:45:11\n",
      "수정일 : 2024-07-19 15:59:42\n",
      "수정일 : 2024-07-19 12:33:25\n",
      "수정일 : 2024-07-19 13:28:47\n",
      "수정일 : 2024-07-19 09:04:28\n"
     ]
    }
   ],
   "source": [
    "# per contents\n",
    "for href in hrefs:\n",
    "    # open new page\n",
    "    driver.get(href)\n",
    "    time.sleep(3)\n",
    "\n",
    "    # get post_id\n",
    "    meta_tag = driver.find_element(By.CSS_SELECTOR, 'meta[property=\"url\"]')    \n",
    "    url_value = meta_tag.get_attribute('content')\n",
    "    match = re.search(r'/(\\d+)$', url_value)\n",
    "    post_id = match.group(1)\n",
    "\n",
    "    # updated_at\n",
    "    updated_at = None\n",
    "    updated_at_elem = driver.find_elements(By.CLASS_NAME, \"lastdate\")\n",
    "    if len(updated_at_elem)!=0:\n",
    "        updated_at = updated_at_elem[0].text\n",
    "    \n",
    "    # get likes\n",
    "    likes_element = driver.find_element(By.CSS_SELECTOR, 'a.symph_count > strong')\n",
    "    likes = likes_element.text\n",
    "\n",
    "    # get view count\n",
    "    view_count_elem = driver.find_element(By.CSS_SELECTOR, 'span.view_count > strong')\n",
    "    view_count = int(view_count_elem.text.replace(',', ''))\n",
    "\n",
    "    # get content\n",
    "    class_name = 'post_article' \n",
    "    content_elems = driver.find_elements(By.CSS_SELECTOR, f'.{class_name} p, .{class_name} h1, \\\n",
    "    .{class_name} h2, .{class_name} h3, .{class_name} h4, .{class_name} h5, .{class_name} h6')\n",
    "    content=\"\"\n",
    "    for content_elem in content_elems:\n",
    "        content += content_elem.text\n",
    "    \n",
    "    # get comments\n",
    "    cmt_authors = []\n",
    "    cmt_contents = []\n",
    "    cmt_post_ids = []    \n",
    "    \n",
    "    cmt_ad_banner_elem = driver.find_element(By.CLASS_NAME, \"comment.ad_banner\")\n",
    "    cmt_authors_elem = cmt_ad_banner_elem.find_elements(By.CLASS_NAME, \"nickname\")\n",
    "    cmt_gif_authors_elem = cmt_ad_banner_elem.find_elements(By.CSS_SELECTOR, 'span.nickname img') # for gif nickname\n",
    "    cmt_contents_elem = cmt_ad_banner_elem.find_elements(By.CLASS_NAME, \"comment_view\")\n",
    "    cmt_gif_authors_cnt = 0\n",
    "    \n",
    "    assert len(cmt_authors_elem)==len(cmt_contents_elem)    \n",
    "    for idx in range(len(cmt_authors_elem)):\n",
    "        cmt_author = cmt_authors_elem[idx].text\n",
    "        if cmt_author=='': # for gif nickname\n",
    "            cmt_author = cmt_gif_authors_elem[cmt_gif_authors_cnt].get_attribute('alt')\n",
    "            cmt_gif_authors_cnt += 1\n",
    "        cmt_authors.append(cmt_author)        \n",
    "        cmt_contents.append(cmt_contents_elem[idx].text)\n",
    "        cmt_post_ids.append(post_id)\n",
    "\n",
    "    # for debugging\n",
    "    # print(\"content: \", content)\n",
    "    # print(\"post_id: \", post_id)\n",
    "    # print(\"cmt_authors: \", cmt_authors)\n",
    "    # print(\"cmt_contents: \", cmt_contents)\n",
    "    # print(\"cmt_post_ids: \", cmt_post_ids)\n",
    "    # print(\"\\n\\n\")\n",
    "    print(updated_at)"
   ]
  },
  {
   "cell_type": "code",
   "execution_count": null,
   "id": "98813589-45d5-4313-ad13-14b17bf0fe8f",
   "metadata": {},
   "outputs": [],
   "source": [
    "driver.quit()"
   ]
  }
 ],
 "metadata": {
  "kernelspec": {
   "display_name": "crawling",
   "language": "python",
   "name": ".crawling"
  },
  "language_info": {
   "codemirror_mode": {
    "name": "ipython",
    "version": 3
   },
   "file_extension": ".py",
   "mimetype": "text/x-python",
   "name": "python",
   "nbconvert_exporter": "python",
   "pygments_lexer": "ipython3",
   "version": "3.12.4"
  }
 },
 "nbformat": 4,
 "nbformat_minor": 5
}
